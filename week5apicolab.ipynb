{
  "nbformat": 4,
  "nbformat_minor": 0,
  "metadata": {
    "colab": {
      "provenance": [],
      "authorship_tag": "ABX9TyMdXlYUcR/Co13RrIesHHDI",
      "include_colab_link": true
    },
    "kernelspec": {
      "name": "python3",
      "display_name": "Python 3"
    },
    "language_info": {
      "name": "python"
    }
  },
  "cells": [
    {
      "cell_type": "markdown",
      "metadata": {
        "id": "view-in-github",
        "colab_type": "text"
      },
      "source": [
        "<a href=\"https://colab.research.google.com/github/olilambourn/olilambourn.github.io/blob/main/week5apicolab.ipynb\" target=\"_parent\"><img src=\"https://colab.research.google.com/assets/colab-badge.svg\" alt=\"Open In Colab\"/></a>"
      ]
    },
    {
      "cell_type": "code",
      "execution_count": 11,
      "metadata": {
        "id": "3ctfVWAkznOp"
      },
      "outputs": [],
      "source": []
    },
    {
      "cell_type": "code",
      "source": [
        "url_base = \"https://api.ons.gov.uk/timeseries/{}/dataset/PN2/data\"\n",
        "\n",
        "ONSSeries = ['KG7A','ZZ3W','ZZ65','J5II','L3BB','L3DW','KH3N','ZZ6B','KH2D','CWNJ']\n",
        "for i in ONSSeries:  \n",
        "   URL = url_base.format(i)\n",
        "   print(URL)"
      ],
      "metadata": {
        "colab": {
          "base_uri": "https://localhost:8080/"
        },
        "id": "UeNqSQNDA74L",
        "outputId": "93e54d1a-4092-4acd-828f-c8a08d7c3f23"
      },
      "execution_count": 12,
      "outputs": [
        {
          "output_type": "stream",
          "name": "stdout",
          "text": [
            "https://api.ons.gov.uk/timeseries/KG7A/dataset/PN2/data\n",
            "https://api.ons.gov.uk/timeseries/ZZ3W/dataset/PN2/data\n",
            "https://api.ons.gov.uk/timeseries/ZZ65/dataset/PN2/data\n",
            "https://api.ons.gov.uk/timeseries/j5ii/dataset/PN2/data\n",
            "https://api.ons.gov.uk/timeseries/L3BB/dataset/PN2/data\n",
            "https://api.ons.gov.uk/timeseries/L3DW/dataset/PN2/data\n",
            "https://api.ons.gov.uk/timeseries/KH3N/dataset/PN2/data\n",
            "https://api.ons.gov.uk/timeseries/ZZ6B/dataset/PN2/data\n",
            "https://api.ons.gov.uk/timeseries/KH2D/dataset/PN2/data\n",
            "https://api.ons.gov.uk/timeseries/CWNJ/dataset/PN2/data\n"
          ]
        }
      ]
    },
    {
      "cell_type": "code",
      "source": [
        "import requests\n",
        "import json\n",
        "from google.colab import files\n",
        "import os"
      ],
      "metadata": {
        "id": "vYf021AhItm5"
      },
      "execution_count": 13,
      "outputs": []
    },
    {
      "cell_type": "code",
      "source": [
        "print(requests.__version__)\n",
        "print(json.__version__)"
      ],
      "metadata": {
        "colab": {
          "base_uri": "https://localhost:8080/"
        },
        "id": "yUJx9AzqI0jr",
        "outputId": "63a5cf81-4857-4047-a5ad-1bf02d924fc8"
      },
      "execution_count": 14,
      "outputs": [
        {
          "output_type": "stream",
          "name": "stdout",
          "text": [
            "2.23.0\n",
            "2.0.9\n"
          ]
        }
      ]
    },
    {
      "cell_type": "code",
      "source": [
        "url = \"https://api.ons.gov.uk/timeseries/ZZ98/dataset/PN2/data\"\n",
        "data = requests.get(url).json()\n",
        "data"
      ],
      "metadata": {
        "colab": {
          "base_uri": "https://localhost:8080/"
        },
        "id": "HJYLr6-iI5tW",
        "outputId": "6db9d2f9-21e9-4e0c-ab2a-e32c7441070b"
      },
      "execution_count": 15,
      "outputs": [
        {
          "output_type": "execute_result",
          "data": {
            "text/plain": [
              "{'description': {'cdid': 'ZZ98',\n",
              "  'contact': {'email': 'gdp@ons.gov.uk',\n",
              "   'name': 'Niamh McAuley',\n",
              "   'telephone': ' +44 1633 455284'},\n",
              "  'datasetId': 'PN2',\n",
              "  'datasetUri': '/economy/grossdomesticproductgdp/datasets/secondestimateofgdp',\n",
              "  'date': '2021',\n",
              "  'nextRelease': '22 December 2022',\n",
              "  'number': '3.5',\n",
              "  'preUnit': '',\n",
              "  'releaseDate': '2022-11-15T00:00:00.000Z',\n",
              "  'sampleSize': '0',\n",
              "  'source': '',\n",
              "  'title': 'Deflator: Exports, growth annual',\n",
              "  'unit': '%'},\n",
              " 'months': [],\n",
              " 'quarters': [],\n",
              " 'relatedDatasets': [{'uri': '/economy/grossdomesticproductgdp/datasets/secondestimateofgdp'}],\n",
              " 'relatedDocuments': [{'uri': '/economy/grossdomesticproductgdp/bulletins/gdpfirstquarterlyestimateuk/latest'}],\n",
              " 'section': {},\n",
              " 'sourceDatasets': [],\n",
              " 'type': 'timeseries',\n",
              " 'uri': '/economy/grossdomesticproductgdp/timeseries/zz98/pn2',\n",
              " 'versions': [{'correctionNotice': '',\n",
              "   'label': 'v1',\n",
              "   'updateDate': '2017-02-22T09:30:00.000Z',\n",
              "   'uri': '/economy/grossdomesticproductgdp/timeseries/zz98/pn2/previous/v1'},\n",
              "  {'correctionNotice': '',\n",
              "   'label': 'v2',\n",
              "   'updateDate': '2017-05-25T08:30:00.000Z',\n",
              "   'uri': '/economy/grossdomesticproductgdp/timeseries/zz98/pn2/previous/v2'},\n",
              "  {'correctionNotice': '',\n",
              "   'label': 'v3',\n",
              "   'updateDate': '2017-11-23T09:30:00.000Z',\n",
              "   'uri': '/economy/grossdomesticproductgdp/timeseries/zz98/pn2/previous/v3'},\n",
              "  {'correctionNotice': '',\n",
              "   'label': 'v4',\n",
              "   'updateDate': '2018-02-22T09:30:00.000Z',\n",
              "   'uri': '/economy/grossdomesticproductgdp/timeseries/zz98/pn2/previous/v4'},\n",
              "  {'correctionNotice': '',\n",
              "   'label': 'v5',\n",
              "   'updateDate': '2018-05-25T08:30:00.000Z',\n",
              "   'uri': '/economy/grossdomesticproductgdp/timeseries/zz98/pn2/previous/v5'},\n",
              "  {'correctionNotice': '',\n",
              "   'label': 'v6',\n",
              "   'updateDate': '2018-08-10T08:30:00.000Z',\n",
              "   'uri': '/economy/grossdomesticproductgdp/timeseries/zz98/pn2/previous/v6'},\n",
              "  {'correctionNotice': '',\n",
              "   'label': 'v7',\n",
              "   'updateDate': '2019-02-11T09:30:00.000Z',\n",
              "   'uri': '/economy/grossdomesticproductgdp/timeseries/zz98/pn2/previous/v7'},\n",
              "  {'correctionNotice': '',\n",
              "   'label': 'v8',\n",
              "   'updateDate': '2019-05-10T08:30:00.000Z',\n",
              "   'uri': '/economy/grossdomesticproductgdp/timeseries/zz98/pn2/previous/v8'},\n",
              "  {'correctionNotice': '',\n",
              "   'label': 'v8',\n",
              "   'updateDate': '2019-05-10T08:30:00.000Z',\n",
              "   'uri': '/economy/grossdomesticproductgdp/timeseries/zz98/pn2/previous/v8'},\n",
              "  {'correctionNotice': '',\n",
              "   'label': 'v9',\n",
              "   'updateDate': '2019-05-10T08:59:07.447Z',\n",
              "   'uri': '/economy/grossdomesticproductgdp/timeseries/zz98/pn2/previous/v9'},\n",
              "  {'correctionNotice': '',\n",
              "   'label': 'v10',\n",
              "   'updateDate': '2019-11-11T09:30:00.000Z',\n",
              "   'uri': '/economy/grossdomesticproductgdp/timeseries/zz98/pn2/previous/v10'},\n",
              "  {'correctionNotice': '',\n",
              "   'label': 'v11',\n",
              "   'updateDate': '2020-02-11T08:11:15.587Z',\n",
              "   'uri': '/economy/grossdomesticproductgdp/timeseries/zz98/pn2/previous/v11'},\n",
              "  {'correctionNotice': '',\n",
              "   'label': 'v12',\n",
              "   'updateDate': '2020-05-13T08:30:00.000Z',\n",
              "   'uri': '/economy/grossdomesticproductgdp/timeseries/zz98/pn2/previous/v12'},\n",
              "  {'correctionNotice': '',\n",
              "   'label': 'v13',\n",
              "   'updateDate': '2020-08-12T05:39:00.000Z',\n",
              "   'uri': '/economy/grossdomesticproductgdp/timeseries/zz98/pn2/previous/v13'},\n",
              "  {'correctionNotice': '',\n",
              "   'label': 'v14',\n",
              "   'updateDate': '2020-11-12T07:00:00.000Z',\n",
              "   'uri': '/economy/grossdomesticproductgdp/timeseries/zz98/pn2/previous/v14'},\n",
              "  {'correctionNotice': '',\n",
              "   'label': 'v15',\n",
              "   'updateDate': '2021-02-12T07:00:00.000Z',\n",
              "   'uri': '/economy/grossdomesticproductgdp/timeseries/zz98/pn2/previous/v15'},\n",
              "  {'correctionNotice': '',\n",
              "   'label': 'v16',\n",
              "   'updateDate': '2021-11-11T07:00:00.000Z',\n",
              "   'uri': '/economy/grossdomesticproductgdp/timeseries/zz98/pn2/previous/v16'},\n",
              "  {'correctionNotice': '',\n",
              "   'label': 'v17',\n",
              "   'updateDate': '2022-02-11T07:00:00.000Z',\n",
              "   'uri': '/economy/grossdomesticproductgdp/timeseries/zz98/pn2/previous/v17'},\n",
              "  {'correctionNotice': '',\n",
              "   'label': 'v18',\n",
              "   'updateDate': '2022-05-12T06:00:00.000Z',\n",
              "   'uri': '/economy/grossdomesticproductgdp/timeseries/zz98/pn2/previous/v18'},\n",
              "  {'correctionNotice': '',\n",
              "   'label': 'v19',\n",
              "   'updateDate': '2022-11-11T07:00:00.000Z',\n",
              "   'uri': '/economy/grossdomesticproductgdp/timeseries/zz98/pn2/previous/v19'}],\n",
              " 'years': [{'date': '1997',\n",
              "   'label': '1997',\n",
              "   'month': '',\n",
              "   'quarter': '',\n",
              "   'sourceDataset': 'PN2',\n",
              "   'updateDate': '2022-11-11T00:00:00.000Z',\n",
              "   'value': '-7.6',\n",
              "   'year': '1997'},\n",
              "  {'date': '1998',\n",
              "   'label': '1998',\n",
              "   'month': '',\n",
              "   'quarter': '',\n",
              "   'sourceDataset': 'PN2',\n",
              "   'updateDate': '2022-11-11T00:00:00.000Z',\n",
              "   'value': '-3.4',\n",
              "   'year': '1998'},\n",
              "  {'date': '1999',\n",
              "   'label': '1999',\n",
              "   'month': '',\n",
              "   'quarter': '',\n",
              "   'sourceDataset': 'PN2',\n",
              "   'updateDate': '2022-11-11T00:00:00.000Z',\n",
              "   'value': '0.5',\n",
              "   'year': '1999'},\n",
              "  {'date': '2000',\n",
              "   'label': '2000',\n",
              "   'month': '',\n",
              "   'quarter': '',\n",
              "   'sourceDataset': 'PN2',\n",
              "   'updateDate': '2022-11-11T00:00:00.000Z',\n",
              "   'value': '1.8',\n",
              "   'year': '2000'},\n",
              "  {'date': '2001',\n",
              "   'label': '2001',\n",
              "   'month': '',\n",
              "   'quarter': '',\n",
              "   'sourceDataset': 'PN2',\n",
              "   'updateDate': '2022-11-11T00:00:00.000Z',\n",
              "   'value': '1.0',\n",
              "   'year': '2001'},\n",
              "  {'date': '2002',\n",
              "   'label': '2002',\n",
              "   'month': '',\n",
              "   'quarter': '',\n",
              "   'sourceDataset': 'PN2',\n",
              "   'updateDate': '2022-11-11T00:00:00.000Z',\n",
              "   'value': '-0.8',\n",
              "   'year': '2002'},\n",
              "  {'date': '2003',\n",
              "   'label': '2003',\n",
              "   'month': '',\n",
              "   'quarter': '',\n",
              "   'sourceDataset': 'PN2',\n",
              "   'updateDate': '2022-11-11T00:00:00.000Z',\n",
              "   'value': '2.1',\n",
              "   'year': '2003'},\n",
              "  {'date': '2004',\n",
              "   'label': '2004',\n",
              "   'month': '',\n",
              "   'quarter': '',\n",
              "   'sourceDataset': 'PN2',\n",
              "   'updateDate': '2022-11-11T00:00:00.000Z',\n",
              "   'value': '0.2',\n",
              "   'year': '2004'},\n",
              "  {'date': '2005',\n",
              "   'label': '2005',\n",
              "   'month': '',\n",
              "   'quarter': '',\n",
              "   'sourceDataset': 'PN2',\n",
              "   'updateDate': '2022-11-11T00:00:00.000Z',\n",
              "   'value': '3.4',\n",
              "   'year': '2005'},\n",
              "  {'date': '2006',\n",
              "   'label': '2006',\n",
              "   'month': '',\n",
              "   'quarter': '',\n",
              "   'sourceDataset': 'PN2',\n",
              "   'updateDate': '2022-11-11T00:00:00.000Z',\n",
              "   'value': '2.1',\n",
              "   'year': '2006'},\n",
              "  {'date': '2007',\n",
              "   'label': '2007',\n",
              "   'month': '',\n",
              "   'quarter': '',\n",
              "   'sourceDataset': 'PN2',\n",
              "   'updateDate': '2022-11-11T00:00:00.000Z',\n",
              "   'value': '-0.9',\n",
              "   'year': '2007'},\n",
              "  {'date': '2008',\n",
              "   'label': '2008',\n",
              "   'month': '',\n",
              "   'quarter': '',\n",
              "   'sourceDataset': 'PN2',\n",
              "   'updateDate': '2022-11-11T00:00:00.000Z',\n",
              "   'value': '8.3',\n",
              "   'year': '2008'},\n",
              "  {'date': '2009',\n",
              "   'label': '2009',\n",
              "   'month': '',\n",
              "   'quarter': '',\n",
              "   'sourceDataset': 'PN2',\n",
              "   'updateDate': '2022-11-11T00:00:00.000Z',\n",
              "   'value': '4.3',\n",
              "   'year': '2009'},\n",
              "  {'date': '2010',\n",
              "   'label': '2010',\n",
              "   'month': '',\n",
              "   'quarter': '',\n",
              "   'sourceDataset': 'PN2',\n",
              "   'updateDate': '2022-11-11T00:00:00.000Z',\n",
              "   'value': '4.3',\n",
              "   'year': '2010'},\n",
              "  {'date': '2011',\n",
              "   'label': '2011',\n",
              "   'month': '',\n",
              "   'quarter': '',\n",
              "   'sourceDataset': 'PN2',\n",
              "   'updateDate': '2021-11-11T00:00:00.000Z',\n",
              "   'value': '5.1',\n",
              "   'year': '2011'},\n",
              "  {'date': '2012',\n",
              "   'label': '2012',\n",
              "   'month': '',\n",
              "   'quarter': '',\n",
              "   'sourceDataset': 'PN2',\n",
              "   'updateDate': '2022-11-11T00:00:00.000Z',\n",
              "   'value': '-0.2',\n",
              "   'year': '2012'},\n",
              "  {'date': '2013',\n",
              "   'label': '2013',\n",
              "   'month': '',\n",
              "   'quarter': '',\n",
              "   'sourceDataset': 'PN2',\n",
              "   'updateDate': '2020-11-12T00:00:00.000Z',\n",
              "   'value': '2.7',\n",
              "   'year': '2013'},\n",
              "  {'date': '2014',\n",
              "   'label': '2014',\n",
              "   'month': '',\n",
              "   'quarter': '',\n",
              "   'sourceDataset': 'PN2',\n",
              "   'updateDate': '2022-11-11T00:00:00.000Z',\n",
              "   'value': '-2.4',\n",
              "   'year': '2014'},\n",
              "  {'date': '2015',\n",
              "   'label': '2015',\n",
              "   'month': '',\n",
              "   'quarter': '',\n",
              "   'sourceDataset': 'PN2',\n",
              "   'updateDate': '2022-11-11T00:00:00.000Z',\n",
              "   'value': '-3.5',\n",
              "   'year': '2015'},\n",
              "  {'date': '2016',\n",
              "   'label': '2016',\n",
              "   'month': '',\n",
              "   'quarter': '',\n",
              "   'sourceDataset': 'PN2',\n",
              "   'updateDate': '2022-11-11T00:00:00.000Z',\n",
              "   'value': '4.6',\n",
              "   'year': '2016'},\n",
              "  {'date': '2017',\n",
              "   'label': '2017',\n",
              "   'month': '',\n",
              "   'quarter': '',\n",
              "   'sourceDataset': 'PN2',\n",
              "   'updateDate': '2022-11-11T00:00:00.000Z',\n",
              "   'value': '4.5',\n",
              "   'year': '2017'},\n",
              "  {'date': '2018',\n",
              "   'label': '2018',\n",
              "   'month': '',\n",
              "   'quarter': '',\n",
              "   'sourceDataset': 'PN2',\n",
              "   'updateDate': '2022-11-11T00:00:00.000Z',\n",
              "   'value': '2.2',\n",
              "   'year': '2018'},\n",
              "  {'date': '2019',\n",
              "   'label': '2019',\n",
              "   'month': '',\n",
              "   'quarter': '',\n",
              "   'sourceDataset': 'PN2',\n",
              "   'updateDate': '2022-11-11T00:00:00.000Z',\n",
              "   'value': '2.1',\n",
              "   'year': '2019'},\n",
              "  {'date': '2020',\n",
              "   'label': '2020',\n",
              "   'month': '',\n",
              "   'quarter': '',\n",
              "   'sourceDataset': 'PN2',\n",
              "   'updateDate': '2022-11-11T00:00:00.000Z',\n",
              "   'value': '0.3',\n",
              "   'year': '2020'},\n",
              "  {'date': '2021',\n",
              "   'label': '2021',\n",
              "   'month': '',\n",
              "   'quarter': '',\n",
              "   'sourceDataset': 'PN2',\n",
              "   'updateDate': '2022-11-11T00:00:00.000Z',\n",
              "   'value': '3.5',\n",
              "   'year': '2021'}]}"
            ]
          },
          "metadata": {},
          "execution_count": 15
        }
      ]
    },
    {
      "cell_type": "code",
      "source": [
        "fileName = \"W5Homework_ONS-ZZ98.json\"\n",
        "print(fileName)\n",
        "with open(fileName, 'w', encoding='utf-8') as f:\n",
        "  json.dump(data, f, ensure_ascii=False, indent=4)\n",
        "\n",
        "files.download('W5Homework_ONS-ZZ98.json')"
      ],
      "metadata": {
        "colab": {
          "base_uri": "https://localhost:8080/",
          "height": 35
        },
        "id": "e_wrly48PgWS",
        "outputId": "5c760365-91e4-448f-a828-1c80142fde15"
      },
      "execution_count": 16,
      "outputs": [
        {
          "output_type": "stream",
          "name": "stdout",
          "text": [
            "W5Homework_ONS-ZZ98.json\n"
          ]
        },
        {
          "output_type": "display_data",
          "data": {
            "text/plain": [
              "<IPython.core.display.Javascript object>"
            ],
            "application/javascript": [
              "\n",
              "    async function download(id, filename, size) {\n",
              "      if (!google.colab.kernel.accessAllowed) {\n",
              "        return;\n",
              "      }\n",
              "      const div = document.createElement('div');\n",
              "      const label = document.createElement('label');\n",
              "      label.textContent = `Downloading \"${filename}\": `;\n",
              "      div.appendChild(label);\n",
              "      const progress = document.createElement('progress');\n",
              "      progress.max = size;\n",
              "      div.appendChild(progress);\n",
              "      document.body.appendChild(div);\n",
              "\n",
              "      const buffers = [];\n",
              "      let downloaded = 0;\n",
              "\n",
              "      const channel = await google.colab.kernel.comms.open(id);\n",
              "      // Send a message to notify the kernel that we're ready.\n",
              "      channel.send({})\n",
              "\n",
              "      for await (const message of channel.messages) {\n",
              "        // Send a message to notify the kernel that we're ready.\n",
              "        channel.send({})\n",
              "        if (message.buffers) {\n",
              "          for (const buffer of message.buffers) {\n",
              "            buffers.push(buffer);\n",
              "            downloaded += buffer.byteLength;\n",
              "            progress.value = downloaded;\n",
              "          }\n",
              "        }\n",
              "      }\n",
              "      const blob = new Blob(buffers, {type: 'application/binary'});\n",
              "      const a = document.createElement('a');\n",
              "      a.href = window.URL.createObjectURL(blob);\n",
              "      a.download = filename;\n",
              "      div.appendChild(a);\n",
              "      a.click();\n",
              "      div.remove();\n",
              "    }\n",
              "  "
            ]
          },
          "metadata": {}
        },
        {
          "output_type": "display_data",
          "data": {
            "text/plain": [
              "<IPython.core.display.Javascript object>"
            ],
            "application/javascript": [
              "download(\"download_3caf3b60-dd52-4fc8-a233-575960fe3839\", \"W5Homework_ONS-ZZ98.json\", 12499)"
            ]
          },
          "metadata": {}
        }
      ]
    },
    {
      "cell_type": "code",
      "source": [
        "url_base = \"https://api.ons.gov.uk/timeseries/{}/dataset/PN2/data\"\n",
        "# // Set the base fileName:\n",
        "file_base = \"W5Homework_ONS-{}.json\"\n",
        "\n",
        "ONSSeries = ['KG7A','ZZ3W','ZZ65','j5ii','L3BB','L3DW','KH3N','ZZ6B','KH2D','CWNJ']\n",
        "# // Begin a loop, dealing with each series, one by one:\n",
        "for i in ONSSeries:  \n",
        "\n",
        "   # // In what follows below I print the iteration of the loop we are on:\n",
        "   # // This is not necessary but can be helpful, esp with long loops: \n",
        "   print(\"------Iteration Starts--------\")\n",
        "   print(i) \n",
        "   # // Build the URL for this iteration of the loop, and check what we are getting:\n",
        "   URL = url.format(i)\n",
        "   print(url)\n",
        "\n",
        "     \n",
        "   # // Request the html from the URL:\n",
        "   data = requests.get(URL).json()\n",
        "   print(data)\n",
        "\n",
        "   # // Set the filename, and check what we are getting:\n",
        "   fileName = file_base.format(i)\n",
        "   print(fileName)\n",
        "   \n",
        "   # // Add some white space to our output. (This is purely so we can see what is happening below clearly)\n",
        "   print(\"------Iteration Ends--------\")\n",
        "\n",
        "   # /// Save the file:\n",
        "   with open(fileName, 'w', encoding='utf-8') as f:\n",
        "     json.dump(data, f, ensure_ascii=False, indent=4)\n",
        "\n",
        "   # /// Download the file to local machine:\n",
        "   files.download(fileName)"
      ],
      "metadata": {
        "colab": {
          "base_uri": "https://localhost:8080/",
          "height": 1000
        },
        "id": "SfcHNdUAPvVs",
        "outputId": "25b9d644-142d-4dda-d487-79ce52826500"
      },
      "execution_count": 24,
      "outputs": [
        {
          "output_type": "stream",
          "name": "stdout",
          "text": [
            "------Iteration Starts--------\n",
            "KG7A\n",
            "https://api.ons.gov.uk/timeseries/ZZ98/dataset/PN2/data\n",
            "{'description': {'cdid': 'ZZ98', 'contact': {'email': 'gdp@ons.gov.uk', 'name': 'Niamh McAuley', 'telephone': ' +44 1633 455284'}, 'datasetId': 'PN2', 'datasetUri': '/economy/grossdomesticproductgdp/datasets/secondestimateofgdp', 'date': '2021', 'nextRelease': '22 December 2022', 'number': '3.5', 'preUnit': '', 'releaseDate': '2022-11-15T00:00:00.000Z', 'sampleSize': '0', 'source': '', 'title': 'Deflator: Exports, growth annual', 'unit': '%'}, 'months': [], 'quarters': [], 'relatedDatasets': [{'uri': '/economy/grossdomesticproductgdp/datasets/secondestimateofgdp'}], 'relatedDocuments': [{'uri': '/economy/grossdomesticproductgdp/bulletins/gdpfirstquarterlyestimateuk/latest'}], 'section': {}, 'sourceDatasets': [], 'type': 'timeseries', 'uri': '/economy/grossdomesticproductgdp/timeseries/zz98/pn2', 'versions': [{'correctionNotice': '', 'label': 'v1', 'updateDate': '2017-02-22T09:30:00.000Z', 'uri': '/economy/grossdomesticproductgdp/timeseries/zz98/pn2/previous/v1'}, {'correctionNotice': '', 'label': 'v2', 'updateDate': '2017-05-25T08:30:00.000Z', 'uri': '/economy/grossdomesticproductgdp/timeseries/zz98/pn2/previous/v2'}, {'correctionNotice': '', 'label': 'v3', 'updateDate': '2017-11-23T09:30:00.000Z', 'uri': '/economy/grossdomesticproductgdp/timeseries/zz98/pn2/previous/v3'}, {'correctionNotice': '', 'label': 'v4', 'updateDate': '2018-02-22T09:30:00.000Z', 'uri': '/economy/grossdomesticproductgdp/timeseries/zz98/pn2/previous/v4'}, {'correctionNotice': '', 'label': 'v5', 'updateDate': '2018-05-25T08:30:00.000Z', 'uri': '/economy/grossdomesticproductgdp/timeseries/zz98/pn2/previous/v5'}, {'correctionNotice': '', 'label': 'v6', 'updateDate': '2018-08-10T08:30:00.000Z', 'uri': '/economy/grossdomesticproductgdp/timeseries/zz98/pn2/previous/v6'}, {'correctionNotice': '', 'label': 'v7', 'updateDate': '2019-02-11T09:30:00.000Z', 'uri': '/economy/grossdomesticproductgdp/timeseries/zz98/pn2/previous/v7'}, {'correctionNotice': '', 'label': 'v8', 'updateDate': '2019-05-10T08:30:00.000Z', 'uri': '/economy/grossdomesticproductgdp/timeseries/zz98/pn2/previous/v8'}, {'correctionNotice': '', 'label': 'v8', 'updateDate': '2019-05-10T08:30:00.000Z', 'uri': '/economy/grossdomesticproductgdp/timeseries/zz98/pn2/previous/v8'}, {'correctionNotice': '', 'label': 'v9', 'updateDate': '2019-05-10T08:59:07.447Z', 'uri': '/economy/grossdomesticproductgdp/timeseries/zz98/pn2/previous/v9'}, {'correctionNotice': '', 'label': 'v10', 'updateDate': '2019-11-11T09:30:00.000Z', 'uri': '/economy/grossdomesticproductgdp/timeseries/zz98/pn2/previous/v10'}, {'correctionNotice': '', 'label': 'v11', 'updateDate': '2020-02-11T08:11:15.587Z', 'uri': '/economy/grossdomesticproductgdp/timeseries/zz98/pn2/previous/v11'}, {'correctionNotice': '', 'label': 'v12', 'updateDate': '2020-05-13T08:30:00.000Z', 'uri': '/economy/grossdomesticproductgdp/timeseries/zz98/pn2/previous/v12'}, {'correctionNotice': '', 'label': 'v13', 'updateDate': '2020-08-12T05:39:00.000Z', 'uri': '/economy/grossdomesticproductgdp/timeseries/zz98/pn2/previous/v13'}, {'correctionNotice': '', 'label': 'v14', 'updateDate': '2020-11-12T07:00:00.000Z', 'uri': '/economy/grossdomesticproductgdp/timeseries/zz98/pn2/previous/v14'}, {'correctionNotice': '', 'label': 'v15', 'updateDate': '2021-02-12T07:00:00.000Z', 'uri': '/economy/grossdomesticproductgdp/timeseries/zz98/pn2/previous/v15'}, {'correctionNotice': '', 'label': 'v16', 'updateDate': '2021-11-11T07:00:00.000Z', 'uri': '/economy/grossdomesticproductgdp/timeseries/zz98/pn2/previous/v16'}, {'correctionNotice': '', 'label': 'v17', 'updateDate': '2022-02-11T07:00:00.000Z', 'uri': '/economy/grossdomesticproductgdp/timeseries/zz98/pn2/previous/v17'}, {'correctionNotice': '', 'label': 'v18', 'updateDate': '2022-05-12T06:00:00.000Z', 'uri': '/economy/grossdomesticproductgdp/timeseries/zz98/pn2/previous/v18'}, {'correctionNotice': '', 'label': 'v19', 'updateDate': '2022-11-11T07:00:00.000Z', 'uri': '/economy/grossdomesticproductgdp/timeseries/zz98/pn2/previous/v19'}], 'years': [{'date': '1997', 'label': '1997', 'month': '', 'quarter': '', 'sourceDataset': 'PN2', 'updateDate': '2022-11-11T00:00:00.000Z', 'value': '-7.6', 'year': '1997'}, {'date': '1998', 'label': '1998', 'month': '', 'quarter': '', 'sourceDataset': 'PN2', 'updateDate': '2022-11-11T00:00:00.000Z', 'value': '-3.4', 'year': '1998'}, {'date': '1999', 'label': '1999', 'month': '', 'quarter': '', 'sourceDataset': 'PN2', 'updateDate': '2022-11-11T00:00:00.000Z', 'value': '0.5', 'year': '1999'}, {'date': '2000', 'label': '2000', 'month': '', 'quarter': '', 'sourceDataset': 'PN2', 'updateDate': '2022-11-11T00:00:00.000Z', 'value': '1.8', 'year': '2000'}, {'date': '2001', 'label': '2001', 'month': '', 'quarter': '', 'sourceDataset': 'PN2', 'updateDate': '2022-11-11T00:00:00.000Z', 'value': '1.0', 'year': '2001'}, {'date': '2002', 'label': '2002', 'month': '', 'quarter': '', 'sourceDataset': 'PN2', 'updateDate': '2022-11-11T00:00:00.000Z', 'value': '-0.8', 'year': '2002'}, {'date': '2003', 'label': '2003', 'month': '', 'quarter': '', 'sourceDataset': 'PN2', 'updateDate': '2022-11-11T00:00:00.000Z', 'value': '2.1', 'year': '2003'}, {'date': '2004', 'label': '2004', 'month': '', 'quarter': '', 'sourceDataset': 'PN2', 'updateDate': '2022-11-11T00:00:00.000Z', 'value': '0.2', 'year': '2004'}, {'date': '2005', 'label': '2005', 'month': '', 'quarter': '', 'sourceDataset': 'PN2', 'updateDate': '2022-11-11T00:00:00.000Z', 'value': '3.4', 'year': '2005'}, {'date': '2006', 'label': '2006', 'month': '', 'quarter': '', 'sourceDataset': 'PN2', 'updateDate': '2022-11-11T00:00:00.000Z', 'value': '2.1', 'year': '2006'}, {'date': '2007', 'label': '2007', 'month': '', 'quarter': '', 'sourceDataset': 'PN2', 'updateDate': '2022-11-11T00:00:00.000Z', 'value': '-0.9', 'year': '2007'}, {'date': '2008', 'label': '2008', 'month': '', 'quarter': '', 'sourceDataset': 'PN2', 'updateDate': '2022-11-11T00:00:00.000Z', 'value': '8.3', 'year': '2008'}, {'date': '2009', 'label': '2009', 'month': '', 'quarter': '', 'sourceDataset': 'PN2', 'updateDate': '2022-11-11T00:00:00.000Z', 'value': '4.3', 'year': '2009'}, {'date': '2010', 'label': '2010', 'month': '', 'quarter': '', 'sourceDataset': 'PN2', 'updateDate': '2022-11-11T00:00:00.000Z', 'value': '4.3', 'year': '2010'}, {'date': '2011', 'label': '2011', 'month': '', 'quarter': '', 'sourceDataset': 'PN2', 'updateDate': '2021-11-11T00:00:00.000Z', 'value': '5.1', 'year': '2011'}, {'date': '2012', 'label': '2012', 'month': '', 'quarter': '', 'sourceDataset': 'PN2', 'updateDate': '2022-11-11T00:00:00.000Z', 'value': '-0.2', 'year': '2012'}, {'date': '2013', 'label': '2013', 'month': '', 'quarter': '', 'sourceDataset': 'PN2', 'updateDate': '2020-11-12T00:00:00.000Z', 'value': '2.7', 'year': '2013'}, {'date': '2014', 'label': '2014', 'month': '', 'quarter': '', 'sourceDataset': 'PN2', 'updateDate': '2022-11-11T00:00:00.000Z', 'value': '-2.4', 'year': '2014'}, {'date': '2015', 'label': '2015', 'month': '', 'quarter': '', 'sourceDataset': 'PN2', 'updateDate': '2022-11-11T00:00:00.000Z', 'value': '-3.5', 'year': '2015'}, {'date': '2016', 'label': '2016', 'month': '', 'quarter': '', 'sourceDataset': 'PN2', 'updateDate': '2022-11-11T00:00:00.000Z', 'value': '4.6', 'year': '2016'}, {'date': '2017', 'label': '2017', 'month': '', 'quarter': '', 'sourceDataset': 'PN2', 'updateDate': '2022-11-11T00:00:00.000Z', 'value': '4.5', 'year': '2017'}, {'date': '2018', 'label': '2018', 'month': '', 'quarter': '', 'sourceDataset': 'PN2', 'updateDate': '2022-11-11T00:00:00.000Z', 'value': '2.2', 'year': '2018'}, {'date': '2019', 'label': '2019', 'month': '', 'quarter': '', 'sourceDataset': 'PN2', 'updateDate': '2022-11-11T00:00:00.000Z', 'value': '2.1', 'year': '2019'}, {'date': '2020', 'label': '2020', 'month': '', 'quarter': '', 'sourceDataset': 'PN2', 'updateDate': '2022-11-11T00:00:00.000Z', 'value': '0.3', 'year': '2020'}, {'date': '2021', 'label': '2021', 'month': '', 'quarter': '', 'sourceDataset': 'PN2', 'updateDate': '2022-11-11T00:00:00.000Z', 'value': '3.5', 'year': '2021'}]}\n",
            "W5Homework_ONS-KG7A.json\n",
            "------Iteration Ends--------\n"
          ]
        },
        {
          "output_type": "display_data",
          "data": {
            "text/plain": [
              "<IPython.core.display.Javascript object>"
            ],
            "application/javascript": [
              "\n",
              "    async function download(id, filename, size) {\n",
              "      if (!google.colab.kernel.accessAllowed) {\n",
              "        return;\n",
              "      }\n",
              "      const div = document.createElement('div');\n",
              "      const label = document.createElement('label');\n",
              "      label.textContent = `Downloading \"${filename}\": `;\n",
              "      div.appendChild(label);\n",
              "      const progress = document.createElement('progress');\n",
              "      progress.max = size;\n",
              "      div.appendChild(progress);\n",
              "      document.body.appendChild(div);\n",
              "\n",
              "      const buffers = [];\n",
              "      let downloaded = 0;\n",
              "\n",
              "      const channel = await google.colab.kernel.comms.open(id);\n",
              "      // Send a message to notify the kernel that we're ready.\n",
              "      channel.send({})\n",
              "\n",
              "      for await (const message of channel.messages) {\n",
              "        // Send a message to notify the kernel that we're ready.\n",
              "        channel.send({})\n",
              "        if (message.buffers) {\n",
              "          for (const buffer of message.buffers) {\n",
              "            buffers.push(buffer);\n",
              "            downloaded += buffer.byteLength;\n",
              "            progress.value = downloaded;\n",
              "          }\n",
              "        }\n",
              "      }\n",
              "      const blob = new Blob(buffers, {type: 'application/binary'});\n",
              "      const a = document.createElement('a');\n",
              "      a.href = window.URL.createObjectURL(blob);\n",
              "      a.download = filename;\n",
              "      div.appendChild(a);\n",
              "      a.click();\n",
              "      div.remove();\n",
              "    }\n",
              "  "
            ]
          },
          "metadata": {}
        },
        {
          "output_type": "display_data",
          "data": {
            "text/plain": [
              "<IPython.core.display.Javascript object>"
            ],
            "application/javascript": [
              "download(\"download_a2c9b1d8-9bfa-4de9-b9bf-19f1640c000b\", \"W5Homework_ONS-KG7A.json\", 12499)"
            ]
          },
          "metadata": {}
        },
        {
          "output_type": "stream",
          "name": "stdout",
          "text": [
            "------Iteration Starts--------\n",
            "ZZ3W\n",
            "https://api.ons.gov.uk/timeseries/ZZ98/dataset/PN2/data\n",
            "{'description': {'cdid': 'ZZ98', 'contact': {'email': 'gdp@ons.gov.uk', 'name': 'Niamh McAuley', 'telephone': ' +44 1633 455284'}, 'datasetId': 'PN2', 'datasetUri': '/economy/grossdomesticproductgdp/datasets/secondestimateofgdp', 'date': '2021', 'nextRelease': '22 December 2022', 'number': '3.5', 'preUnit': '', 'releaseDate': '2022-11-15T00:00:00.000Z', 'sampleSize': '0', 'source': '', 'title': 'Deflator: Exports, growth annual', 'unit': '%'}, 'months': [], 'quarters': [], 'relatedDatasets': [{'uri': '/economy/grossdomesticproductgdp/datasets/secondestimateofgdp'}], 'relatedDocuments': [{'uri': '/economy/grossdomesticproductgdp/bulletins/gdpfirstquarterlyestimateuk/latest'}], 'section': {}, 'sourceDatasets': [], 'type': 'timeseries', 'uri': '/economy/grossdomesticproductgdp/timeseries/zz98/pn2', 'versions': [{'correctionNotice': '', 'label': 'v1', 'updateDate': '2017-02-22T09:30:00.000Z', 'uri': '/economy/grossdomesticproductgdp/timeseries/zz98/pn2/previous/v1'}, {'correctionNotice': '', 'label': 'v2', 'updateDate': '2017-05-25T08:30:00.000Z', 'uri': '/economy/grossdomesticproductgdp/timeseries/zz98/pn2/previous/v2'}, {'correctionNotice': '', 'label': 'v3', 'updateDate': '2017-11-23T09:30:00.000Z', 'uri': '/economy/grossdomesticproductgdp/timeseries/zz98/pn2/previous/v3'}, {'correctionNotice': '', 'label': 'v4', 'updateDate': '2018-02-22T09:30:00.000Z', 'uri': '/economy/grossdomesticproductgdp/timeseries/zz98/pn2/previous/v4'}, {'correctionNotice': '', 'label': 'v5', 'updateDate': '2018-05-25T08:30:00.000Z', 'uri': '/economy/grossdomesticproductgdp/timeseries/zz98/pn2/previous/v5'}, {'correctionNotice': '', 'label': 'v6', 'updateDate': '2018-08-10T08:30:00.000Z', 'uri': '/economy/grossdomesticproductgdp/timeseries/zz98/pn2/previous/v6'}, {'correctionNotice': '', 'label': 'v7', 'updateDate': '2019-02-11T09:30:00.000Z', 'uri': '/economy/grossdomesticproductgdp/timeseries/zz98/pn2/previous/v7'}, {'correctionNotice': '', 'label': 'v8', 'updateDate': '2019-05-10T08:30:00.000Z', 'uri': '/economy/grossdomesticproductgdp/timeseries/zz98/pn2/previous/v8'}, {'correctionNotice': '', 'label': 'v8', 'updateDate': '2019-05-10T08:30:00.000Z', 'uri': '/economy/grossdomesticproductgdp/timeseries/zz98/pn2/previous/v8'}, {'correctionNotice': '', 'label': 'v9', 'updateDate': '2019-05-10T08:59:07.447Z', 'uri': '/economy/grossdomesticproductgdp/timeseries/zz98/pn2/previous/v9'}, {'correctionNotice': '', 'label': 'v10', 'updateDate': '2019-11-11T09:30:00.000Z', 'uri': '/economy/grossdomesticproductgdp/timeseries/zz98/pn2/previous/v10'}, {'correctionNotice': '', 'label': 'v11', 'updateDate': '2020-02-11T08:11:15.587Z', 'uri': '/economy/grossdomesticproductgdp/timeseries/zz98/pn2/previous/v11'}, {'correctionNotice': '', 'label': 'v12', 'updateDate': '2020-05-13T08:30:00.000Z', 'uri': '/economy/grossdomesticproductgdp/timeseries/zz98/pn2/previous/v12'}, {'correctionNotice': '', 'label': 'v13', 'updateDate': '2020-08-12T05:39:00.000Z', 'uri': '/economy/grossdomesticproductgdp/timeseries/zz98/pn2/previous/v13'}, {'correctionNotice': '', 'label': 'v14', 'updateDate': '2020-11-12T07:00:00.000Z', 'uri': '/economy/grossdomesticproductgdp/timeseries/zz98/pn2/previous/v14'}, {'correctionNotice': '', 'label': 'v15', 'updateDate': '2021-02-12T07:00:00.000Z', 'uri': '/economy/grossdomesticproductgdp/timeseries/zz98/pn2/previous/v15'}, {'correctionNotice': '', 'label': 'v16', 'updateDate': '2021-11-11T07:00:00.000Z', 'uri': '/economy/grossdomesticproductgdp/timeseries/zz98/pn2/previous/v16'}, {'correctionNotice': '', 'label': 'v17', 'updateDate': '2022-02-11T07:00:00.000Z', 'uri': '/economy/grossdomesticproductgdp/timeseries/zz98/pn2/previous/v17'}, {'correctionNotice': '', 'label': 'v18', 'updateDate': '2022-05-12T06:00:00.000Z', 'uri': '/economy/grossdomesticproductgdp/timeseries/zz98/pn2/previous/v18'}, {'correctionNotice': '', 'label': 'v19', 'updateDate': '2022-11-11T07:00:00.000Z', 'uri': '/economy/grossdomesticproductgdp/timeseries/zz98/pn2/previous/v19'}], 'years': [{'date': '1997', 'label': '1997', 'month': '', 'quarter': '', 'sourceDataset': 'PN2', 'updateDate': '2022-11-11T00:00:00.000Z', 'value': '-7.6', 'year': '1997'}, {'date': '1998', 'label': '1998', 'month': '', 'quarter': '', 'sourceDataset': 'PN2', 'updateDate': '2022-11-11T00:00:00.000Z', 'value': '-3.4', 'year': '1998'}, {'date': '1999', 'label': '1999', 'month': '', 'quarter': '', 'sourceDataset': 'PN2', 'updateDate': '2022-11-11T00:00:00.000Z', 'value': '0.5', 'year': '1999'}, {'date': '2000', 'label': '2000', 'month': '', 'quarter': '', 'sourceDataset': 'PN2', 'updateDate': '2022-11-11T00:00:00.000Z', 'value': '1.8', 'year': '2000'}, {'date': '2001', 'label': '2001', 'month': '', 'quarter': '', 'sourceDataset': 'PN2', 'updateDate': '2022-11-11T00:00:00.000Z', 'value': '1.0', 'year': '2001'}, {'date': '2002', 'label': '2002', 'month': '', 'quarter': '', 'sourceDataset': 'PN2', 'updateDate': '2022-11-11T00:00:00.000Z', 'value': '-0.8', 'year': '2002'}, {'date': '2003', 'label': '2003', 'month': '', 'quarter': '', 'sourceDataset': 'PN2', 'updateDate': '2022-11-11T00:00:00.000Z', 'value': '2.1', 'year': '2003'}, {'date': '2004', 'label': '2004', 'month': '', 'quarter': '', 'sourceDataset': 'PN2', 'updateDate': '2022-11-11T00:00:00.000Z', 'value': '0.2', 'year': '2004'}, {'date': '2005', 'label': '2005', 'month': '', 'quarter': '', 'sourceDataset': 'PN2', 'updateDate': '2022-11-11T00:00:00.000Z', 'value': '3.4', 'year': '2005'}, {'date': '2006', 'label': '2006', 'month': '', 'quarter': '', 'sourceDataset': 'PN2', 'updateDate': '2022-11-11T00:00:00.000Z', 'value': '2.1', 'year': '2006'}, {'date': '2007', 'label': '2007', 'month': '', 'quarter': '', 'sourceDataset': 'PN2', 'updateDate': '2022-11-11T00:00:00.000Z', 'value': '-0.9', 'year': '2007'}, {'date': '2008', 'label': '2008', 'month': '', 'quarter': '', 'sourceDataset': 'PN2', 'updateDate': '2022-11-11T00:00:00.000Z', 'value': '8.3', 'year': '2008'}, {'date': '2009', 'label': '2009', 'month': '', 'quarter': '', 'sourceDataset': 'PN2', 'updateDate': '2022-11-11T00:00:00.000Z', 'value': '4.3', 'year': '2009'}, {'date': '2010', 'label': '2010', 'month': '', 'quarter': '', 'sourceDataset': 'PN2', 'updateDate': '2022-11-11T00:00:00.000Z', 'value': '4.3', 'year': '2010'}, {'date': '2011', 'label': '2011', 'month': '', 'quarter': '', 'sourceDataset': 'PN2', 'updateDate': '2021-11-11T00:00:00.000Z', 'value': '5.1', 'year': '2011'}, {'date': '2012', 'label': '2012', 'month': '', 'quarter': '', 'sourceDataset': 'PN2', 'updateDate': '2022-11-11T00:00:00.000Z', 'value': '-0.2', 'year': '2012'}, {'date': '2013', 'label': '2013', 'month': '', 'quarter': '', 'sourceDataset': 'PN2', 'updateDate': '2020-11-12T00:00:00.000Z', 'value': '2.7', 'year': '2013'}, {'date': '2014', 'label': '2014', 'month': '', 'quarter': '', 'sourceDataset': 'PN2', 'updateDate': '2022-11-11T00:00:00.000Z', 'value': '-2.4', 'year': '2014'}, {'date': '2015', 'label': '2015', 'month': '', 'quarter': '', 'sourceDataset': 'PN2', 'updateDate': '2022-11-11T00:00:00.000Z', 'value': '-3.5', 'year': '2015'}, {'date': '2016', 'label': '2016', 'month': '', 'quarter': '', 'sourceDataset': 'PN2', 'updateDate': '2022-11-11T00:00:00.000Z', 'value': '4.6', 'year': '2016'}, {'date': '2017', 'label': '2017', 'month': '', 'quarter': '', 'sourceDataset': 'PN2', 'updateDate': '2022-11-11T00:00:00.000Z', 'value': '4.5', 'year': '2017'}, {'date': '2018', 'label': '2018', 'month': '', 'quarter': '', 'sourceDataset': 'PN2', 'updateDate': '2022-11-11T00:00:00.000Z', 'value': '2.2', 'year': '2018'}, {'date': '2019', 'label': '2019', 'month': '', 'quarter': '', 'sourceDataset': 'PN2', 'updateDate': '2022-11-11T00:00:00.000Z', 'value': '2.1', 'year': '2019'}, {'date': '2020', 'label': '2020', 'month': '', 'quarter': '', 'sourceDataset': 'PN2', 'updateDate': '2022-11-11T00:00:00.000Z', 'value': '0.3', 'year': '2020'}, {'date': '2021', 'label': '2021', 'month': '', 'quarter': '', 'sourceDataset': 'PN2', 'updateDate': '2022-11-11T00:00:00.000Z', 'value': '3.5', 'year': '2021'}]}\n",
            "W5Homework_ONS-ZZ3W.json\n",
            "------Iteration Ends--------\n"
          ]
        },
        {
          "output_type": "display_data",
          "data": {
            "text/plain": [
              "<IPython.core.display.Javascript object>"
            ],
            "application/javascript": [
              "\n",
              "    async function download(id, filename, size) {\n",
              "      if (!google.colab.kernel.accessAllowed) {\n",
              "        return;\n",
              "      }\n",
              "      const div = document.createElement('div');\n",
              "      const label = document.createElement('label');\n",
              "      label.textContent = `Downloading \"${filename}\": `;\n",
              "      div.appendChild(label);\n",
              "      const progress = document.createElement('progress');\n",
              "      progress.max = size;\n",
              "      div.appendChild(progress);\n",
              "      document.body.appendChild(div);\n",
              "\n",
              "      const buffers = [];\n",
              "      let downloaded = 0;\n",
              "\n",
              "      const channel = await google.colab.kernel.comms.open(id);\n",
              "      // Send a message to notify the kernel that we're ready.\n",
              "      channel.send({})\n",
              "\n",
              "      for await (const message of channel.messages) {\n",
              "        // Send a message to notify the kernel that we're ready.\n",
              "        channel.send({})\n",
              "        if (message.buffers) {\n",
              "          for (const buffer of message.buffers) {\n",
              "            buffers.push(buffer);\n",
              "            downloaded += buffer.byteLength;\n",
              "            progress.value = downloaded;\n",
              "          }\n",
              "        }\n",
              "      }\n",
              "      const blob = new Blob(buffers, {type: 'application/binary'});\n",
              "      const a = document.createElement('a');\n",
              "      a.href = window.URL.createObjectURL(blob);\n",
              "      a.download = filename;\n",
              "      div.appendChild(a);\n",
              "      a.click();\n",
              "      div.remove();\n",
              "    }\n",
              "  "
            ]
          },
          "metadata": {}
        },
        {
          "output_type": "display_data",
          "data": {
            "text/plain": [
              "<IPython.core.display.Javascript object>"
            ],
            "application/javascript": [
              "download(\"download_2c337726-edb3-4ade-ae17-0cfd931969fa\", \"W5Homework_ONS-ZZ3W.json\", 12499)"
            ]
          },
          "metadata": {}
        },
        {
          "output_type": "stream",
          "name": "stdout",
          "text": [
            "------Iteration Starts--------\n",
            "ZZ65\n",
            "https://api.ons.gov.uk/timeseries/ZZ98/dataset/PN2/data\n",
            "{'description': {'cdid': 'ZZ98', 'contact': {'email': 'gdp@ons.gov.uk', 'name': 'Niamh McAuley', 'telephone': ' +44 1633 455284'}, 'datasetId': 'PN2', 'datasetUri': '/economy/grossdomesticproductgdp/datasets/secondestimateofgdp', 'date': '2021', 'nextRelease': '22 December 2022', 'number': '3.5', 'preUnit': '', 'releaseDate': '2022-11-15T00:00:00.000Z', 'sampleSize': '0', 'source': '', 'title': 'Deflator: Exports, growth annual', 'unit': '%'}, 'months': [], 'quarters': [], 'relatedDatasets': [{'uri': '/economy/grossdomesticproductgdp/datasets/secondestimateofgdp'}], 'relatedDocuments': [{'uri': '/economy/grossdomesticproductgdp/bulletins/gdpfirstquarterlyestimateuk/latest'}], 'section': {}, 'sourceDatasets': [], 'type': 'timeseries', 'uri': '/economy/grossdomesticproductgdp/timeseries/zz98/pn2', 'versions': [{'correctionNotice': '', 'label': 'v1', 'updateDate': '2017-02-22T09:30:00.000Z', 'uri': '/economy/grossdomesticproductgdp/timeseries/zz98/pn2/previous/v1'}, {'correctionNotice': '', 'label': 'v2', 'updateDate': '2017-05-25T08:30:00.000Z', 'uri': '/economy/grossdomesticproductgdp/timeseries/zz98/pn2/previous/v2'}, {'correctionNotice': '', 'label': 'v3', 'updateDate': '2017-11-23T09:30:00.000Z', 'uri': '/economy/grossdomesticproductgdp/timeseries/zz98/pn2/previous/v3'}, {'correctionNotice': '', 'label': 'v4', 'updateDate': '2018-02-22T09:30:00.000Z', 'uri': '/economy/grossdomesticproductgdp/timeseries/zz98/pn2/previous/v4'}, {'correctionNotice': '', 'label': 'v5', 'updateDate': '2018-05-25T08:30:00.000Z', 'uri': '/economy/grossdomesticproductgdp/timeseries/zz98/pn2/previous/v5'}, {'correctionNotice': '', 'label': 'v6', 'updateDate': '2018-08-10T08:30:00.000Z', 'uri': '/economy/grossdomesticproductgdp/timeseries/zz98/pn2/previous/v6'}, {'correctionNotice': '', 'label': 'v7', 'updateDate': '2019-02-11T09:30:00.000Z', 'uri': '/economy/grossdomesticproductgdp/timeseries/zz98/pn2/previous/v7'}, {'correctionNotice': '', 'label': 'v8', 'updateDate': '2019-05-10T08:30:00.000Z', 'uri': '/economy/grossdomesticproductgdp/timeseries/zz98/pn2/previous/v8'}, {'correctionNotice': '', 'label': 'v8', 'updateDate': '2019-05-10T08:30:00.000Z', 'uri': '/economy/grossdomesticproductgdp/timeseries/zz98/pn2/previous/v8'}, {'correctionNotice': '', 'label': 'v9', 'updateDate': '2019-05-10T08:59:07.447Z', 'uri': '/economy/grossdomesticproductgdp/timeseries/zz98/pn2/previous/v9'}, {'correctionNotice': '', 'label': 'v10', 'updateDate': '2019-11-11T09:30:00.000Z', 'uri': '/economy/grossdomesticproductgdp/timeseries/zz98/pn2/previous/v10'}, {'correctionNotice': '', 'label': 'v11', 'updateDate': '2020-02-11T08:11:15.587Z', 'uri': '/economy/grossdomesticproductgdp/timeseries/zz98/pn2/previous/v11'}, {'correctionNotice': '', 'label': 'v12', 'updateDate': '2020-05-13T08:30:00.000Z', 'uri': '/economy/grossdomesticproductgdp/timeseries/zz98/pn2/previous/v12'}, {'correctionNotice': '', 'label': 'v13', 'updateDate': '2020-08-12T05:39:00.000Z', 'uri': '/economy/grossdomesticproductgdp/timeseries/zz98/pn2/previous/v13'}, {'correctionNotice': '', 'label': 'v14', 'updateDate': '2020-11-12T07:00:00.000Z', 'uri': '/economy/grossdomesticproductgdp/timeseries/zz98/pn2/previous/v14'}, {'correctionNotice': '', 'label': 'v15', 'updateDate': '2021-02-12T07:00:00.000Z', 'uri': '/economy/grossdomesticproductgdp/timeseries/zz98/pn2/previous/v15'}, {'correctionNotice': '', 'label': 'v16', 'updateDate': '2021-11-11T07:00:00.000Z', 'uri': '/economy/grossdomesticproductgdp/timeseries/zz98/pn2/previous/v16'}, {'correctionNotice': '', 'label': 'v17', 'updateDate': '2022-02-11T07:00:00.000Z', 'uri': '/economy/grossdomesticproductgdp/timeseries/zz98/pn2/previous/v17'}, {'correctionNotice': '', 'label': 'v18', 'updateDate': '2022-05-12T06:00:00.000Z', 'uri': '/economy/grossdomesticproductgdp/timeseries/zz98/pn2/previous/v18'}, {'correctionNotice': '', 'label': 'v19', 'updateDate': '2022-11-11T07:00:00.000Z', 'uri': '/economy/grossdomesticproductgdp/timeseries/zz98/pn2/previous/v19'}], 'years': [{'date': '1997', 'label': '1997', 'month': '', 'quarter': '', 'sourceDataset': 'PN2', 'updateDate': '2022-11-11T00:00:00.000Z', 'value': '-7.6', 'year': '1997'}, {'date': '1998', 'label': '1998', 'month': '', 'quarter': '', 'sourceDataset': 'PN2', 'updateDate': '2022-11-11T00:00:00.000Z', 'value': '-3.4', 'year': '1998'}, {'date': '1999', 'label': '1999', 'month': '', 'quarter': '', 'sourceDataset': 'PN2', 'updateDate': '2022-11-11T00:00:00.000Z', 'value': '0.5', 'year': '1999'}, {'date': '2000', 'label': '2000', 'month': '', 'quarter': '', 'sourceDataset': 'PN2', 'updateDate': '2022-11-11T00:00:00.000Z', 'value': '1.8', 'year': '2000'}, {'date': '2001', 'label': '2001', 'month': '', 'quarter': '', 'sourceDataset': 'PN2', 'updateDate': '2022-11-11T00:00:00.000Z', 'value': '1.0', 'year': '2001'}, {'date': '2002', 'label': '2002', 'month': '', 'quarter': '', 'sourceDataset': 'PN2', 'updateDate': '2022-11-11T00:00:00.000Z', 'value': '-0.8', 'year': '2002'}, {'date': '2003', 'label': '2003', 'month': '', 'quarter': '', 'sourceDataset': 'PN2', 'updateDate': '2022-11-11T00:00:00.000Z', 'value': '2.1', 'year': '2003'}, {'date': '2004', 'label': '2004', 'month': '', 'quarter': '', 'sourceDataset': 'PN2', 'updateDate': '2022-11-11T00:00:00.000Z', 'value': '0.2', 'year': '2004'}, {'date': '2005', 'label': '2005', 'month': '', 'quarter': '', 'sourceDataset': 'PN2', 'updateDate': '2022-11-11T00:00:00.000Z', 'value': '3.4', 'year': '2005'}, {'date': '2006', 'label': '2006', 'month': '', 'quarter': '', 'sourceDataset': 'PN2', 'updateDate': '2022-11-11T00:00:00.000Z', 'value': '2.1', 'year': '2006'}, {'date': '2007', 'label': '2007', 'month': '', 'quarter': '', 'sourceDataset': 'PN2', 'updateDate': '2022-11-11T00:00:00.000Z', 'value': '-0.9', 'year': '2007'}, {'date': '2008', 'label': '2008', 'month': '', 'quarter': '', 'sourceDataset': 'PN2', 'updateDate': '2022-11-11T00:00:00.000Z', 'value': '8.3', 'year': '2008'}, {'date': '2009', 'label': '2009', 'month': '', 'quarter': '', 'sourceDataset': 'PN2', 'updateDate': '2022-11-11T00:00:00.000Z', 'value': '4.3', 'year': '2009'}, {'date': '2010', 'label': '2010', 'month': '', 'quarter': '', 'sourceDataset': 'PN2', 'updateDate': '2022-11-11T00:00:00.000Z', 'value': '4.3', 'year': '2010'}, {'date': '2011', 'label': '2011', 'month': '', 'quarter': '', 'sourceDataset': 'PN2', 'updateDate': '2021-11-11T00:00:00.000Z', 'value': '5.1', 'year': '2011'}, {'date': '2012', 'label': '2012', 'month': '', 'quarter': '', 'sourceDataset': 'PN2', 'updateDate': '2022-11-11T00:00:00.000Z', 'value': '-0.2', 'year': '2012'}, {'date': '2013', 'label': '2013', 'month': '', 'quarter': '', 'sourceDataset': 'PN2', 'updateDate': '2020-11-12T00:00:00.000Z', 'value': '2.7', 'year': '2013'}, {'date': '2014', 'label': '2014', 'month': '', 'quarter': '', 'sourceDataset': 'PN2', 'updateDate': '2022-11-11T00:00:00.000Z', 'value': '-2.4', 'year': '2014'}, {'date': '2015', 'label': '2015', 'month': '', 'quarter': '', 'sourceDataset': 'PN2', 'updateDate': '2022-11-11T00:00:00.000Z', 'value': '-3.5', 'year': '2015'}, {'date': '2016', 'label': '2016', 'month': '', 'quarter': '', 'sourceDataset': 'PN2', 'updateDate': '2022-11-11T00:00:00.000Z', 'value': '4.6', 'year': '2016'}, {'date': '2017', 'label': '2017', 'month': '', 'quarter': '', 'sourceDataset': 'PN2', 'updateDate': '2022-11-11T00:00:00.000Z', 'value': '4.5', 'year': '2017'}, {'date': '2018', 'label': '2018', 'month': '', 'quarter': '', 'sourceDataset': 'PN2', 'updateDate': '2022-11-11T00:00:00.000Z', 'value': '2.2', 'year': '2018'}, {'date': '2019', 'label': '2019', 'month': '', 'quarter': '', 'sourceDataset': 'PN2', 'updateDate': '2022-11-11T00:00:00.000Z', 'value': '2.1', 'year': '2019'}, {'date': '2020', 'label': '2020', 'month': '', 'quarter': '', 'sourceDataset': 'PN2', 'updateDate': '2022-11-11T00:00:00.000Z', 'value': '0.3', 'year': '2020'}, {'date': '2021', 'label': '2021', 'month': '', 'quarter': '', 'sourceDataset': 'PN2', 'updateDate': '2022-11-11T00:00:00.000Z', 'value': '3.5', 'year': '2021'}]}\n",
            "W5Homework_ONS-ZZ65.json\n",
            "------Iteration Ends--------\n"
          ]
        },
        {
          "output_type": "display_data",
          "data": {
            "text/plain": [
              "<IPython.core.display.Javascript object>"
            ],
            "application/javascript": [
              "\n",
              "    async function download(id, filename, size) {\n",
              "      if (!google.colab.kernel.accessAllowed) {\n",
              "        return;\n",
              "      }\n",
              "      const div = document.createElement('div');\n",
              "      const label = document.createElement('label');\n",
              "      label.textContent = `Downloading \"${filename}\": `;\n",
              "      div.appendChild(label);\n",
              "      const progress = document.createElement('progress');\n",
              "      progress.max = size;\n",
              "      div.appendChild(progress);\n",
              "      document.body.appendChild(div);\n",
              "\n",
              "      const buffers = [];\n",
              "      let downloaded = 0;\n",
              "\n",
              "      const channel = await google.colab.kernel.comms.open(id);\n",
              "      // Send a message to notify the kernel that we're ready.\n",
              "      channel.send({})\n",
              "\n",
              "      for await (const message of channel.messages) {\n",
              "        // Send a message to notify the kernel that we're ready.\n",
              "        channel.send({})\n",
              "        if (message.buffers) {\n",
              "          for (const buffer of message.buffers) {\n",
              "            buffers.push(buffer);\n",
              "            downloaded += buffer.byteLength;\n",
              "            progress.value = downloaded;\n",
              "          }\n",
              "        }\n",
              "      }\n",
              "      const blob = new Blob(buffers, {type: 'application/binary'});\n",
              "      const a = document.createElement('a');\n",
              "      a.href = window.URL.createObjectURL(blob);\n",
              "      a.download = filename;\n",
              "      div.appendChild(a);\n",
              "      a.click();\n",
              "      div.remove();\n",
              "    }\n",
              "  "
            ]
          },
          "metadata": {}
        },
        {
          "output_type": "display_data",
          "data": {
            "text/plain": [
              "<IPython.core.display.Javascript object>"
            ],
            "application/javascript": [
              "download(\"download_d1a42e84-7cd2-4d88-92cc-1a8bd23cb641\", \"W5Homework_ONS-ZZ65.json\", 12499)"
            ]
          },
          "metadata": {}
        },
        {
          "output_type": "stream",
          "name": "stdout",
          "text": [
            "------Iteration Starts--------\n",
            "j5ii\n",
            "https://api.ons.gov.uk/timeseries/ZZ98/dataset/PN2/data\n",
            "{'description': {'cdid': 'ZZ98', 'contact': {'email': 'gdp@ons.gov.uk', 'name': 'Niamh McAuley', 'telephone': ' +44 1633 455284'}, 'datasetId': 'PN2', 'datasetUri': '/economy/grossdomesticproductgdp/datasets/secondestimateofgdp', 'date': '2021', 'nextRelease': '22 December 2022', 'number': '3.5', 'preUnit': '', 'releaseDate': '2022-11-15T00:00:00.000Z', 'sampleSize': '0', 'source': '', 'title': 'Deflator: Exports, growth annual', 'unit': '%'}, 'months': [], 'quarters': [], 'relatedDatasets': [{'uri': '/economy/grossdomesticproductgdp/datasets/secondestimateofgdp'}], 'relatedDocuments': [{'uri': '/economy/grossdomesticproductgdp/bulletins/gdpfirstquarterlyestimateuk/latest'}], 'section': {}, 'sourceDatasets': [], 'type': 'timeseries', 'uri': '/economy/grossdomesticproductgdp/timeseries/zz98/pn2', 'versions': [{'correctionNotice': '', 'label': 'v1', 'updateDate': '2017-02-22T09:30:00.000Z', 'uri': '/economy/grossdomesticproductgdp/timeseries/zz98/pn2/previous/v1'}, {'correctionNotice': '', 'label': 'v2', 'updateDate': '2017-05-25T08:30:00.000Z', 'uri': '/economy/grossdomesticproductgdp/timeseries/zz98/pn2/previous/v2'}, {'correctionNotice': '', 'label': 'v3', 'updateDate': '2017-11-23T09:30:00.000Z', 'uri': '/economy/grossdomesticproductgdp/timeseries/zz98/pn2/previous/v3'}, {'correctionNotice': '', 'label': 'v4', 'updateDate': '2018-02-22T09:30:00.000Z', 'uri': '/economy/grossdomesticproductgdp/timeseries/zz98/pn2/previous/v4'}, {'correctionNotice': '', 'label': 'v5', 'updateDate': '2018-05-25T08:30:00.000Z', 'uri': '/economy/grossdomesticproductgdp/timeseries/zz98/pn2/previous/v5'}, {'correctionNotice': '', 'label': 'v6', 'updateDate': '2018-08-10T08:30:00.000Z', 'uri': '/economy/grossdomesticproductgdp/timeseries/zz98/pn2/previous/v6'}, {'correctionNotice': '', 'label': 'v7', 'updateDate': '2019-02-11T09:30:00.000Z', 'uri': '/economy/grossdomesticproductgdp/timeseries/zz98/pn2/previous/v7'}, {'correctionNotice': '', 'label': 'v8', 'updateDate': '2019-05-10T08:30:00.000Z', 'uri': '/economy/grossdomesticproductgdp/timeseries/zz98/pn2/previous/v8'}, {'correctionNotice': '', 'label': 'v8', 'updateDate': '2019-05-10T08:30:00.000Z', 'uri': '/economy/grossdomesticproductgdp/timeseries/zz98/pn2/previous/v8'}, {'correctionNotice': '', 'label': 'v9', 'updateDate': '2019-05-10T08:59:07.447Z', 'uri': '/economy/grossdomesticproductgdp/timeseries/zz98/pn2/previous/v9'}, {'correctionNotice': '', 'label': 'v10', 'updateDate': '2019-11-11T09:30:00.000Z', 'uri': '/economy/grossdomesticproductgdp/timeseries/zz98/pn2/previous/v10'}, {'correctionNotice': '', 'label': 'v11', 'updateDate': '2020-02-11T08:11:15.587Z', 'uri': '/economy/grossdomesticproductgdp/timeseries/zz98/pn2/previous/v11'}, {'correctionNotice': '', 'label': 'v12', 'updateDate': '2020-05-13T08:30:00.000Z', 'uri': '/economy/grossdomesticproductgdp/timeseries/zz98/pn2/previous/v12'}, {'correctionNotice': '', 'label': 'v13', 'updateDate': '2020-08-12T05:39:00.000Z', 'uri': '/economy/grossdomesticproductgdp/timeseries/zz98/pn2/previous/v13'}, {'correctionNotice': '', 'label': 'v14', 'updateDate': '2020-11-12T07:00:00.000Z', 'uri': '/economy/grossdomesticproductgdp/timeseries/zz98/pn2/previous/v14'}, {'correctionNotice': '', 'label': 'v15', 'updateDate': '2021-02-12T07:00:00.000Z', 'uri': '/economy/grossdomesticproductgdp/timeseries/zz98/pn2/previous/v15'}, {'correctionNotice': '', 'label': 'v16', 'updateDate': '2021-11-11T07:00:00.000Z', 'uri': '/economy/grossdomesticproductgdp/timeseries/zz98/pn2/previous/v16'}, {'correctionNotice': '', 'label': 'v17', 'updateDate': '2022-02-11T07:00:00.000Z', 'uri': '/economy/grossdomesticproductgdp/timeseries/zz98/pn2/previous/v17'}, {'correctionNotice': '', 'label': 'v18', 'updateDate': '2022-05-12T06:00:00.000Z', 'uri': '/economy/grossdomesticproductgdp/timeseries/zz98/pn2/previous/v18'}, {'correctionNotice': '', 'label': 'v19', 'updateDate': '2022-11-11T07:00:00.000Z', 'uri': '/economy/grossdomesticproductgdp/timeseries/zz98/pn2/previous/v19'}], 'years': [{'date': '1997', 'label': '1997', 'month': '', 'quarter': '', 'sourceDataset': 'PN2', 'updateDate': '2022-11-11T00:00:00.000Z', 'value': '-7.6', 'year': '1997'}, {'date': '1998', 'label': '1998', 'month': '', 'quarter': '', 'sourceDataset': 'PN2', 'updateDate': '2022-11-11T00:00:00.000Z', 'value': '-3.4', 'year': '1998'}, {'date': '1999', 'label': '1999', 'month': '', 'quarter': '', 'sourceDataset': 'PN2', 'updateDate': '2022-11-11T00:00:00.000Z', 'value': '0.5', 'year': '1999'}, {'date': '2000', 'label': '2000', 'month': '', 'quarter': '', 'sourceDataset': 'PN2', 'updateDate': '2022-11-11T00:00:00.000Z', 'value': '1.8', 'year': '2000'}, {'date': '2001', 'label': '2001', 'month': '', 'quarter': '', 'sourceDataset': 'PN2', 'updateDate': '2022-11-11T00:00:00.000Z', 'value': '1.0', 'year': '2001'}, {'date': '2002', 'label': '2002', 'month': '', 'quarter': '', 'sourceDataset': 'PN2', 'updateDate': '2022-11-11T00:00:00.000Z', 'value': '-0.8', 'year': '2002'}, {'date': '2003', 'label': '2003', 'month': '', 'quarter': '', 'sourceDataset': 'PN2', 'updateDate': '2022-11-11T00:00:00.000Z', 'value': '2.1', 'year': '2003'}, {'date': '2004', 'label': '2004', 'month': '', 'quarter': '', 'sourceDataset': 'PN2', 'updateDate': '2022-11-11T00:00:00.000Z', 'value': '0.2', 'year': '2004'}, {'date': '2005', 'label': '2005', 'month': '', 'quarter': '', 'sourceDataset': 'PN2', 'updateDate': '2022-11-11T00:00:00.000Z', 'value': '3.4', 'year': '2005'}, {'date': '2006', 'label': '2006', 'month': '', 'quarter': '', 'sourceDataset': 'PN2', 'updateDate': '2022-11-11T00:00:00.000Z', 'value': '2.1', 'year': '2006'}, {'date': '2007', 'label': '2007', 'month': '', 'quarter': '', 'sourceDataset': 'PN2', 'updateDate': '2022-11-11T00:00:00.000Z', 'value': '-0.9', 'year': '2007'}, {'date': '2008', 'label': '2008', 'month': '', 'quarter': '', 'sourceDataset': 'PN2', 'updateDate': '2022-11-11T00:00:00.000Z', 'value': '8.3', 'year': '2008'}, {'date': '2009', 'label': '2009', 'month': '', 'quarter': '', 'sourceDataset': 'PN2', 'updateDate': '2022-11-11T00:00:00.000Z', 'value': '4.3', 'year': '2009'}, {'date': '2010', 'label': '2010', 'month': '', 'quarter': '', 'sourceDataset': 'PN2', 'updateDate': '2022-11-11T00:00:00.000Z', 'value': '4.3', 'year': '2010'}, {'date': '2011', 'label': '2011', 'month': '', 'quarter': '', 'sourceDataset': 'PN2', 'updateDate': '2021-11-11T00:00:00.000Z', 'value': '5.1', 'year': '2011'}, {'date': '2012', 'label': '2012', 'month': '', 'quarter': '', 'sourceDataset': 'PN2', 'updateDate': '2022-11-11T00:00:00.000Z', 'value': '-0.2', 'year': '2012'}, {'date': '2013', 'label': '2013', 'month': '', 'quarter': '', 'sourceDataset': 'PN2', 'updateDate': '2020-11-12T00:00:00.000Z', 'value': '2.7', 'year': '2013'}, {'date': '2014', 'label': '2014', 'month': '', 'quarter': '', 'sourceDataset': 'PN2', 'updateDate': '2022-11-11T00:00:00.000Z', 'value': '-2.4', 'year': '2014'}, {'date': '2015', 'label': '2015', 'month': '', 'quarter': '', 'sourceDataset': 'PN2', 'updateDate': '2022-11-11T00:00:00.000Z', 'value': '-3.5', 'year': '2015'}, {'date': '2016', 'label': '2016', 'month': '', 'quarter': '', 'sourceDataset': 'PN2', 'updateDate': '2022-11-11T00:00:00.000Z', 'value': '4.6', 'year': '2016'}, {'date': '2017', 'label': '2017', 'month': '', 'quarter': '', 'sourceDataset': 'PN2', 'updateDate': '2022-11-11T00:00:00.000Z', 'value': '4.5', 'year': '2017'}, {'date': '2018', 'label': '2018', 'month': '', 'quarter': '', 'sourceDataset': 'PN2', 'updateDate': '2022-11-11T00:00:00.000Z', 'value': '2.2', 'year': '2018'}, {'date': '2019', 'label': '2019', 'month': '', 'quarter': '', 'sourceDataset': 'PN2', 'updateDate': '2022-11-11T00:00:00.000Z', 'value': '2.1', 'year': '2019'}, {'date': '2020', 'label': '2020', 'month': '', 'quarter': '', 'sourceDataset': 'PN2', 'updateDate': '2022-11-11T00:00:00.000Z', 'value': '0.3', 'year': '2020'}, {'date': '2021', 'label': '2021', 'month': '', 'quarter': '', 'sourceDataset': 'PN2', 'updateDate': '2022-11-11T00:00:00.000Z', 'value': '3.5', 'year': '2021'}]}\n",
            "W5Homework_ONS-j5ii.json\n",
            "------Iteration Ends--------\n"
          ]
        },
        {
          "output_type": "display_data",
          "data": {
            "text/plain": [
              "<IPython.core.display.Javascript object>"
            ],
            "application/javascript": [
              "\n",
              "    async function download(id, filename, size) {\n",
              "      if (!google.colab.kernel.accessAllowed) {\n",
              "        return;\n",
              "      }\n",
              "      const div = document.createElement('div');\n",
              "      const label = document.createElement('label');\n",
              "      label.textContent = `Downloading \"${filename}\": `;\n",
              "      div.appendChild(label);\n",
              "      const progress = document.createElement('progress');\n",
              "      progress.max = size;\n",
              "      div.appendChild(progress);\n",
              "      document.body.appendChild(div);\n",
              "\n",
              "      const buffers = [];\n",
              "      let downloaded = 0;\n",
              "\n",
              "      const channel = await google.colab.kernel.comms.open(id);\n",
              "      // Send a message to notify the kernel that we're ready.\n",
              "      channel.send({})\n",
              "\n",
              "      for await (const message of channel.messages) {\n",
              "        // Send a message to notify the kernel that we're ready.\n",
              "        channel.send({})\n",
              "        if (message.buffers) {\n",
              "          for (const buffer of message.buffers) {\n",
              "            buffers.push(buffer);\n",
              "            downloaded += buffer.byteLength;\n",
              "            progress.value = downloaded;\n",
              "          }\n",
              "        }\n",
              "      }\n",
              "      const blob = new Blob(buffers, {type: 'application/binary'});\n",
              "      const a = document.createElement('a');\n",
              "      a.href = window.URL.createObjectURL(blob);\n",
              "      a.download = filename;\n",
              "      div.appendChild(a);\n",
              "      a.click();\n",
              "      div.remove();\n",
              "    }\n",
              "  "
            ]
          },
          "metadata": {}
        },
        {
          "output_type": "display_data",
          "data": {
            "text/plain": [
              "<IPython.core.display.Javascript object>"
            ],
            "application/javascript": [
              "download(\"download_2747d6fb-47a8-4bd5-8b25-26c5777a93c5\", \"W5Homework_ONS-j5ii.json\", 12499)"
            ]
          },
          "metadata": {}
        },
        {
          "output_type": "stream",
          "name": "stdout",
          "text": [
            "------Iteration Starts--------\n",
            "L3BB\n",
            "https://api.ons.gov.uk/timeseries/ZZ98/dataset/PN2/data\n",
            "{'description': {'cdid': 'ZZ98', 'contact': {'email': 'gdp@ons.gov.uk', 'name': 'Niamh McAuley', 'telephone': ' +44 1633 455284'}, 'datasetId': 'PN2', 'datasetUri': '/economy/grossdomesticproductgdp/datasets/secondestimateofgdp', 'date': '2021', 'nextRelease': '22 December 2022', 'number': '3.5', 'preUnit': '', 'releaseDate': '2022-11-15T00:00:00.000Z', 'sampleSize': '0', 'source': '', 'title': 'Deflator: Exports, growth annual', 'unit': '%'}, 'months': [], 'quarters': [], 'relatedDatasets': [{'uri': '/economy/grossdomesticproductgdp/datasets/secondestimateofgdp'}], 'relatedDocuments': [{'uri': '/economy/grossdomesticproductgdp/bulletins/gdpfirstquarterlyestimateuk/latest'}], 'section': {}, 'sourceDatasets': [], 'type': 'timeseries', 'uri': '/economy/grossdomesticproductgdp/timeseries/zz98/pn2', 'versions': [{'correctionNotice': '', 'label': 'v1', 'updateDate': '2017-02-22T09:30:00.000Z', 'uri': '/economy/grossdomesticproductgdp/timeseries/zz98/pn2/previous/v1'}, {'correctionNotice': '', 'label': 'v2', 'updateDate': '2017-05-25T08:30:00.000Z', 'uri': '/economy/grossdomesticproductgdp/timeseries/zz98/pn2/previous/v2'}, {'correctionNotice': '', 'label': 'v3', 'updateDate': '2017-11-23T09:30:00.000Z', 'uri': '/economy/grossdomesticproductgdp/timeseries/zz98/pn2/previous/v3'}, {'correctionNotice': '', 'label': 'v4', 'updateDate': '2018-02-22T09:30:00.000Z', 'uri': '/economy/grossdomesticproductgdp/timeseries/zz98/pn2/previous/v4'}, {'correctionNotice': '', 'label': 'v5', 'updateDate': '2018-05-25T08:30:00.000Z', 'uri': '/economy/grossdomesticproductgdp/timeseries/zz98/pn2/previous/v5'}, {'correctionNotice': '', 'label': 'v6', 'updateDate': '2018-08-10T08:30:00.000Z', 'uri': '/economy/grossdomesticproductgdp/timeseries/zz98/pn2/previous/v6'}, {'correctionNotice': '', 'label': 'v7', 'updateDate': '2019-02-11T09:30:00.000Z', 'uri': '/economy/grossdomesticproductgdp/timeseries/zz98/pn2/previous/v7'}, {'correctionNotice': '', 'label': 'v8', 'updateDate': '2019-05-10T08:30:00.000Z', 'uri': '/economy/grossdomesticproductgdp/timeseries/zz98/pn2/previous/v8'}, {'correctionNotice': '', 'label': 'v8', 'updateDate': '2019-05-10T08:30:00.000Z', 'uri': '/economy/grossdomesticproductgdp/timeseries/zz98/pn2/previous/v8'}, {'correctionNotice': '', 'label': 'v9', 'updateDate': '2019-05-10T08:59:07.447Z', 'uri': '/economy/grossdomesticproductgdp/timeseries/zz98/pn2/previous/v9'}, {'correctionNotice': '', 'label': 'v10', 'updateDate': '2019-11-11T09:30:00.000Z', 'uri': '/economy/grossdomesticproductgdp/timeseries/zz98/pn2/previous/v10'}, {'correctionNotice': '', 'label': 'v11', 'updateDate': '2020-02-11T08:11:15.587Z', 'uri': '/economy/grossdomesticproductgdp/timeseries/zz98/pn2/previous/v11'}, {'correctionNotice': '', 'label': 'v12', 'updateDate': '2020-05-13T08:30:00.000Z', 'uri': '/economy/grossdomesticproductgdp/timeseries/zz98/pn2/previous/v12'}, {'correctionNotice': '', 'label': 'v13', 'updateDate': '2020-08-12T05:39:00.000Z', 'uri': '/economy/grossdomesticproductgdp/timeseries/zz98/pn2/previous/v13'}, {'correctionNotice': '', 'label': 'v14', 'updateDate': '2020-11-12T07:00:00.000Z', 'uri': '/economy/grossdomesticproductgdp/timeseries/zz98/pn2/previous/v14'}, {'correctionNotice': '', 'label': 'v15', 'updateDate': '2021-02-12T07:00:00.000Z', 'uri': '/economy/grossdomesticproductgdp/timeseries/zz98/pn2/previous/v15'}, {'correctionNotice': '', 'label': 'v16', 'updateDate': '2021-11-11T07:00:00.000Z', 'uri': '/economy/grossdomesticproductgdp/timeseries/zz98/pn2/previous/v16'}, {'correctionNotice': '', 'label': 'v17', 'updateDate': '2022-02-11T07:00:00.000Z', 'uri': '/economy/grossdomesticproductgdp/timeseries/zz98/pn2/previous/v17'}, {'correctionNotice': '', 'label': 'v18', 'updateDate': '2022-05-12T06:00:00.000Z', 'uri': '/economy/grossdomesticproductgdp/timeseries/zz98/pn2/previous/v18'}, {'correctionNotice': '', 'label': 'v19', 'updateDate': '2022-11-11T07:00:00.000Z', 'uri': '/economy/grossdomesticproductgdp/timeseries/zz98/pn2/previous/v19'}], 'years': [{'date': '1997', 'label': '1997', 'month': '', 'quarter': '', 'sourceDataset': 'PN2', 'updateDate': '2022-11-11T00:00:00.000Z', 'value': '-7.6', 'year': '1997'}, {'date': '1998', 'label': '1998', 'month': '', 'quarter': '', 'sourceDataset': 'PN2', 'updateDate': '2022-11-11T00:00:00.000Z', 'value': '-3.4', 'year': '1998'}, {'date': '1999', 'label': '1999', 'month': '', 'quarter': '', 'sourceDataset': 'PN2', 'updateDate': '2022-11-11T00:00:00.000Z', 'value': '0.5', 'year': '1999'}, {'date': '2000', 'label': '2000', 'month': '', 'quarter': '', 'sourceDataset': 'PN2', 'updateDate': '2022-11-11T00:00:00.000Z', 'value': '1.8', 'year': '2000'}, {'date': '2001', 'label': '2001', 'month': '', 'quarter': '', 'sourceDataset': 'PN2', 'updateDate': '2022-11-11T00:00:00.000Z', 'value': '1.0', 'year': '2001'}, {'date': '2002', 'label': '2002', 'month': '', 'quarter': '', 'sourceDataset': 'PN2', 'updateDate': '2022-11-11T00:00:00.000Z', 'value': '-0.8', 'year': '2002'}, {'date': '2003', 'label': '2003', 'month': '', 'quarter': '', 'sourceDataset': 'PN2', 'updateDate': '2022-11-11T00:00:00.000Z', 'value': '2.1', 'year': '2003'}, {'date': '2004', 'label': '2004', 'month': '', 'quarter': '', 'sourceDataset': 'PN2', 'updateDate': '2022-11-11T00:00:00.000Z', 'value': '0.2', 'year': '2004'}, {'date': '2005', 'label': '2005', 'month': '', 'quarter': '', 'sourceDataset': 'PN2', 'updateDate': '2022-11-11T00:00:00.000Z', 'value': '3.4', 'year': '2005'}, {'date': '2006', 'label': '2006', 'month': '', 'quarter': '', 'sourceDataset': 'PN2', 'updateDate': '2022-11-11T00:00:00.000Z', 'value': '2.1', 'year': '2006'}, {'date': '2007', 'label': '2007', 'month': '', 'quarter': '', 'sourceDataset': 'PN2', 'updateDate': '2022-11-11T00:00:00.000Z', 'value': '-0.9', 'year': '2007'}, {'date': '2008', 'label': '2008', 'month': '', 'quarter': '', 'sourceDataset': 'PN2', 'updateDate': '2022-11-11T00:00:00.000Z', 'value': '8.3', 'year': '2008'}, {'date': '2009', 'label': '2009', 'month': '', 'quarter': '', 'sourceDataset': 'PN2', 'updateDate': '2022-11-11T00:00:00.000Z', 'value': '4.3', 'year': '2009'}, {'date': '2010', 'label': '2010', 'month': '', 'quarter': '', 'sourceDataset': 'PN2', 'updateDate': '2022-11-11T00:00:00.000Z', 'value': '4.3', 'year': '2010'}, {'date': '2011', 'label': '2011', 'month': '', 'quarter': '', 'sourceDataset': 'PN2', 'updateDate': '2021-11-11T00:00:00.000Z', 'value': '5.1', 'year': '2011'}, {'date': '2012', 'label': '2012', 'month': '', 'quarter': '', 'sourceDataset': 'PN2', 'updateDate': '2022-11-11T00:00:00.000Z', 'value': '-0.2', 'year': '2012'}, {'date': '2013', 'label': '2013', 'month': '', 'quarter': '', 'sourceDataset': 'PN2', 'updateDate': '2020-11-12T00:00:00.000Z', 'value': '2.7', 'year': '2013'}, {'date': '2014', 'label': '2014', 'month': '', 'quarter': '', 'sourceDataset': 'PN2', 'updateDate': '2022-11-11T00:00:00.000Z', 'value': '-2.4', 'year': '2014'}, {'date': '2015', 'label': '2015', 'month': '', 'quarter': '', 'sourceDataset': 'PN2', 'updateDate': '2022-11-11T00:00:00.000Z', 'value': '-3.5', 'year': '2015'}, {'date': '2016', 'label': '2016', 'month': '', 'quarter': '', 'sourceDataset': 'PN2', 'updateDate': '2022-11-11T00:00:00.000Z', 'value': '4.6', 'year': '2016'}, {'date': '2017', 'label': '2017', 'month': '', 'quarter': '', 'sourceDataset': 'PN2', 'updateDate': '2022-11-11T00:00:00.000Z', 'value': '4.5', 'year': '2017'}, {'date': '2018', 'label': '2018', 'month': '', 'quarter': '', 'sourceDataset': 'PN2', 'updateDate': '2022-11-11T00:00:00.000Z', 'value': '2.2', 'year': '2018'}, {'date': '2019', 'label': '2019', 'month': '', 'quarter': '', 'sourceDataset': 'PN2', 'updateDate': '2022-11-11T00:00:00.000Z', 'value': '2.1', 'year': '2019'}, {'date': '2020', 'label': '2020', 'month': '', 'quarter': '', 'sourceDataset': 'PN2', 'updateDate': '2022-11-11T00:00:00.000Z', 'value': '0.3', 'year': '2020'}, {'date': '2021', 'label': '2021', 'month': '', 'quarter': '', 'sourceDataset': 'PN2', 'updateDate': '2022-11-11T00:00:00.000Z', 'value': '3.5', 'year': '2021'}]}\n",
            "W5Homework_ONS-L3BB.json\n",
            "------Iteration Ends--------\n"
          ]
        },
        {
          "output_type": "display_data",
          "data": {
            "text/plain": [
              "<IPython.core.display.Javascript object>"
            ],
            "application/javascript": [
              "\n",
              "    async function download(id, filename, size) {\n",
              "      if (!google.colab.kernel.accessAllowed) {\n",
              "        return;\n",
              "      }\n",
              "      const div = document.createElement('div');\n",
              "      const label = document.createElement('label');\n",
              "      label.textContent = `Downloading \"${filename}\": `;\n",
              "      div.appendChild(label);\n",
              "      const progress = document.createElement('progress');\n",
              "      progress.max = size;\n",
              "      div.appendChild(progress);\n",
              "      document.body.appendChild(div);\n",
              "\n",
              "      const buffers = [];\n",
              "      let downloaded = 0;\n",
              "\n",
              "      const channel = await google.colab.kernel.comms.open(id);\n",
              "      // Send a message to notify the kernel that we're ready.\n",
              "      channel.send({})\n",
              "\n",
              "      for await (const message of channel.messages) {\n",
              "        // Send a message to notify the kernel that we're ready.\n",
              "        channel.send({})\n",
              "        if (message.buffers) {\n",
              "          for (const buffer of message.buffers) {\n",
              "            buffers.push(buffer);\n",
              "            downloaded += buffer.byteLength;\n",
              "            progress.value = downloaded;\n",
              "          }\n",
              "        }\n",
              "      }\n",
              "      const blob = new Blob(buffers, {type: 'application/binary'});\n",
              "      const a = document.createElement('a');\n",
              "      a.href = window.URL.createObjectURL(blob);\n",
              "      a.download = filename;\n",
              "      div.appendChild(a);\n",
              "      a.click();\n",
              "      div.remove();\n",
              "    }\n",
              "  "
            ]
          },
          "metadata": {}
        },
        {
          "output_type": "display_data",
          "data": {
            "text/plain": [
              "<IPython.core.display.Javascript object>"
            ],
            "application/javascript": [
              "download(\"download_a27c079e-d570-4a51-adf6-f297590b2bd2\", \"W5Homework_ONS-L3BB.json\", 12499)"
            ]
          },
          "metadata": {}
        },
        {
          "output_type": "stream",
          "name": "stdout",
          "text": [
            "------Iteration Starts--------\n",
            "L3DW\n",
            "https://api.ons.gov.uk/timeseries/ZZ98/dataset/PN2/data\n",
            "{'description': {'cdid': 'ZZ98', 'contact': {'email': 'gdp@ons.gov.uk', 'name': 'Niamh McAuley', 'telephone': ' +44 1633 455284'}, 'datasetId': 'PN2', 'datasetUri': '/economy/grossdomesticproductgdp/datasets/secondestimateofgdp', 'date': '2021', 'nextRelease': '22 December 2022', 'number': '3.5', 'preUnit': '', 'releaseDate': '2022-11-15T00:00:00.000Z', 'sampleSize': '0', 'source': '', 'title': 'Deflator: Exports, growth annual', 'unit': '%'}, 'months': [], 'quarters': [], 'relatedDatasets': [{'uri': '/economy/grossdomesticproductgdp/datasets/secondestimateofgdp'}], 'relatedDocuments': [{'uri': '/economy/grossdomesticproductgdp/bulletins/gdpfirstquarterlyestimateuk/latest'}], 'section': {}, 'sourceDatasets': [], 'type': 'timeseries', 'uri': '/economy/grossdomesticproductgdp/timeseries/zz98/pn2', 'versions': [{'correctionNotice': '', 'label': 'v1', 'updateDate': '2017-02-22T09:30:00.000Z', 'uri': '/economy/grossdomesticproductgdp/timeseries/zz98/pn2/previous/v1'}, {'correctionNotice': '', 'label': 'v2', 'updateDate': '2017-05-25T08:30:00.000Z', 'uri': '/economy/grossdomesticproductgdp/timeseries/zz98/pn2/previous/v2'}, {'correctionNotice': '', 'label': 'v3', 'updateDate': '2017-11-23T09:30:00.000Z', 'uri': '/economy/grossdomesticproductgdp/timeseries/zz98/pn2/previous/v3'}, {'correctionNotice': '', 'label': 'v4', 'updateDate': '2018-02-22T09:30:00.000Z', 'uri': '/economy/grossdomesticproductgdp/timeseries/zz98/pn2/previous/v4'}, {'correctionNotice': '', 'label': 'v5', 'updateDate': '2018-05-25T08:30:00.000Z', 'uri': '/economy/grossdomesticproductgdp/timeseries/zz98/pn2/previous/v5'}, {'correctionNotice': '', 'label': 'v6', 'updateDate': '2018-08-10T08:30:00.000Z', 'uri': '/economy/grossdomesticproductgdp/timeseries/zz98/pn2/previous/v6'}, {'correctionNotice': '', 'label': 'v7', 'updateDate': '2019-02-11T09:30:00.000Z', 'uri': '/economy/grossdomesticproductgdp/timeseries/zz98/pn2/previous/v7'}, {'correctionNotice': '', 'label': 'v8', 'updateDate': '2019-05-10T08:30:00.000Z', 'uri': '/economy/grossdomesticproductgdp/timeseries/zz98/pn2/previous/v8'}, {'correctionNotice': '', 'label': 'v8', 'updateDate': '2019-05-10T08:30:00.000Z', 'uri': '/economy/grossdomesticproductgdp/timeseries/zz98/pn2/previous/v8'}, {'correctionNotice': '', 'label': 'v9', 'updateDate': '2019-05-10T08:59:07.447Z', 'uri': '/economy/grossdomesticproductgdp/timeseries/zz98/pn2/previous/v9'}, {'correctionNotice': '', 'label': 'v10', 'updateDate': '2019-11-11T09:30:00.000Z', 'uri': '/economy/grossdomesticproductgdp/timeseries/zz98/pn2/previous/v10'}, {'correctionNotice': '', 'label': 'v11', 'updateDate': '2020-02-11T08:11:15.587Z', 'uri': '/economy/grossdomesticproductgdp/timeseries/zz98/pn2/previous/v11'}, {'correctionNotice': '', 'label': 'v12', 'updateDate': '2020-05-13T08:30:00.000Z', 'uri': '/economy/grossdomesticproductgdp/timeseries/zz98/pn2/previous/v12'}, {'correctionNotice': '', 'label': 'v13', 'updateDate': '2020-08-12T05:39:00.000Z', 'uri': '/economy/grossdomesticproductgdp/timeseries/zz98/pn2/previous/v13'}, {'correctionNotice': '', 'label': 'v14', 'updateDate': '2020-11-12T07:00:00.000Z', 'uri': '/economy/grossdomesticproductgdp/timeseries/zz98/pn2/previous/v14'}, {'correctionNotice': '', 'label': 'v15', 'updateDate': '2021-02-12T07:00:00.000Z', 'uri': '/economy/grossdomesticproductgdp/timeseries/zz98/pn2/previous/v15'}, {'correctionNotice': '', 'label': 'v16', 'updateDate': '2021-11-11T07:00:00.000Z', 'uri': '/economy/grossdomesticproductgdp/timeseries/zz98/pn2/previous/v16'}, {'correctionNotice': '', 'label': 'v17', 'updateDate': '2022-02-11T07:00:00.000Z', 'uri': '/economy/grossdomesticproductgdp/timeseries/zz98/pn2/previous/v17'}, {'correctionNotice': '', 'label': 'v18', 'updateDate': '2022-05-12T06:00:00.000Z', 'uri': '/economy/grossdomesticproductgdp/timeseries/zz98/pn2/previous/v18'}, {'correctionNotice': '', 'label': 'v19', 'updateDate': '2022-11-11T07:00:00.000Z', 'uri': '/economy/grossdomesticproductgdp/timeseries/zz98/pn2/previous/v19'}], 'years': [{'date': '1997', 'label': '1997', 'month': '', 'quarter': '', 'sourceDataset': 'PN2', 'updateDate': '2022-11-11T00:00:00.000Z', 'value': '-7.6', 'year': '1997'}, {'date': '1998', 'label': '1998', 'month': '', 'quarter': '', 'sourceDataset': 'PN2', 'updateDate': '2022-11-11T00:00:00.000Z', 'value': '-3.4', 'year': '1998'}, {'date': '1999', 'label': '1999', 'month': '', 'quarter': '', 'sourceDataset': 'PN2', 'updateDate': '2022-11-11T00:00:00.000Z', 'value': '0.5', 'year': '1999'}, {'date': '2000', 'label': '2000', 'month': '', 'quarter': '', 'sourceDataset': 'PN2', 'updateDate': '2022-11-11T00:00:00.000Z', 'value': '1.8', 'year': '2000'}, {'date': '2001', 'label': '2001', 'month': '', 'quarter': '', 'sourceDataset': 'PN2', 'updateDate': '2022-11-11T00:00:00.000Z', 'value': '1.0', 'year': '2001'}, {'date': '2002', 'label': '2002', 'month': '', 'quarter': '', 'sourceDataset': 'PN2', 'updateDate': '2022-11-11T00:00:00.000Z', 'value': '-0.8', 'year': '2002'}, {'date': '2003', 'label': '2003', 'month': '', 'quarter': '', 'sourceDataset': 'PN2', 'updateDate': '2022-11-11T00:00:00.000Z', 'value': '2.1', 'year': '2003'}, {'date': '2004', 'label': '2004', 'month': '', 'quarter': '', 'sourceDataset': 'PN2', 'updateDate': '2022-11-11T00:00:00.000Z', 'value': '0.2', 'year': '2004'}, {'date': '2005', 'label': '2005', 'month': '', 'quarter': '', 'sourceDataset': 'PN2', 'updateDate': '2022-11-11T00:00:00.000Z', 'value': '3.4', 'year': '2005'}, {'date': '2006', 'label': '2006', 'month': '', 'quarter': '', 'sourceDataset': 'PN2', 'updateDate': '2022-11-11T00:00:00.000Z', 'value': '2.1', 'year': '2006'}, {'date': '2007', 'label': '2007', 'month': '', 'quarter': '', 'sourceDataset': 'PN2', 'updateDate': '2022-11-11T00:00:00.000Z', 'value': '-0.9', 'year': '2007'}, {'date': '2008', 'label': '2008', 'month': '', 'quarter': '', 'sourceDataset': 'PN2', 'updateDate': '2022-11-11T00:00:00.000Z', 'value': '8.3', 'year': '2008'}, {'date': '2009', 'label': '2009', 'month': '', 'quarter': '', 'sourceDataset': 'PN2', 'updateDate': '2022-11-11T00:00:00.000Z', 'value': '4.3', 'year': '2009'}, {'date': '2010', 'label': '2010', 'month': '', 'quarter': '', 'sourceDataset': 'PN2', 'updateDate': '2022-11-11T00:00:00.000Z', 'value': '4.3', 'year': '2010'}, {'date': '2011', 'label': '2011', 'month': '', 'quarter': '', 'sourceDataset': 'PN2', 'updateDate': '2021-11-11T00:00:00.000Z', 'value': '5.1', 'year': '2011'}, {'date': '2012', 'label': '2012', 'month': '', 'quarter': '', 'sourceDataset': 'PN2', 'updateDate': '2022-11-11T00:00:00.000Z', 'value': '-0.2', 'year': '2012'}, {'date': '2013', 'label': '2013', 'month': '', 'quarter': '', 'sourceDataset': 'PN2', 'updateDate': '2020-11-12T00:00:00.000Z', 'value': '2.7', 'year': '2013'}, {'date': '2014', 'label': '2014', 'month': '', 'quarter': '', 'sourceDataset': 'PN2', 'updateDate': '2022-11-11T00:00:00.000Z', 'value': '-2.4', 'year': '2014'}, {'date': '2015', 'label': '2015', 'month': '', 'quarter': '', 'sourceDataset': 'PN2', 'updateDate': '2022-11-11T00:00:00.000Z', 'value': '-3.5', 'year': '2015'}, {'date': '2016', 'label': '2016', 'month': '', 'quarter': '', 'sourceDataset': 'PN2', 'updateDate': '2022-11-11T00:00:00.000Z', 'value': '4.6', 'year': '2016'}, {'date': '2017', 'label': '2017', 'month': '', 'quarter': '', 'sourceDataset': 'PN2', 'updateDate': '2022-11-11T00:00:00.000Z', 'value': '4.5', 'year': '2017'}, {'date': '2018', 'label': '2018', 'month': '', 'quarter': '', 'sourceDataset': 'PN2', 'updateDate': '2022-11-11T00:00:00.000Z', 'value': '2.2', 'year': '2018'}, {'date': '2019', 'label': '2019', 'month': '', 'quarter': '', 'sourceDataset': 'PN2', 'updateDate': '2022-11-11T00:00:00.000Z', 'value': '2.1', 'year': '2019'}, {'date': '2020', 'label': '2020', 'month': '', 'quarter': '', 'sourceDataset': 'PN2', 'updateDate': '2022-11-11T00:00:00.000Z', 'value': '0.3', 'year': '2020'}, {'date': '2021', 'label': '2021', 'month': '', 'quarter': '', 'sourceDataset': 'PN2', 'updateDate': '2022-11-11T00:00:00.000Z', 'value': '3.5', 'year': '2021'}]}\n",
            "W5Homework_ONS-L3DW.json\n",
            "------Iteration Ends--------\n"
          ]
        },
        {
          "output_type": "display_data",
          "data": {
            "text/plain": [
              "<IPython.core.display.Javascript object>"
            ],
            "application/javascript": [
              "\n",
              "    async function download(id, filename, size) {\n",
              "      if (!google.colab.kernel.accessAllowed) {\n",
              "        return;\n",
              "      }\n",
              "      const div = document.createElement('div');\n",
              "      const label = document.createElement('label');\n",
              "      label.textContent = `Downloading \"${filename}\": `;\n",
              "      div.appendChild(label);\n",
              "      const progress = document.createElement('progress');\n",
              "      progress.max = size;\n",
              "      div.appendChild(progress);\n",
              "      document.body.appendChild(div);\n",
              "\n",
              "      const buffers = [];\n",
              "      let downloaded = 0;\n",
              "\n",
              "      const channel = await google.colab.kernel.comms.open(id);\n",
              "      // Send a message to notify the kernel that we're ready.\n",
              "      channel.send({})\n",
              "\n",
              "      for await (const message of channel.messages) {\n",
              "        // Send a message to notify the kernel that we're ready.\n",
              "        channel.send({})\n",
              "        if (message.buffers) {\n",
              "          for (const buffer of message.buffers) {\n",
              "            buffers.push(buffer);\n",
              "            downloaded += buffer.byteLength;\n",
              "            progress.value = downloaded;\n",
              "          }\n",
              "        }\n",
              "      }\n",
              "      const blob = new Blob(buffers, {type: 'application/binary'});\n",
              "      const a = document.createElement('a');\n",
              "      a.href = window.URL.createObjectURL(blob);\n",
              "      a.download = filename;\n",
              "      div.appendChild(a);\n",
              "      a.click();\n",
              "      div.remove();\n",
              "    }\n",
              "  "
            ]
          },
          "metadata": {}
        },
        {
          "output_type": "display_data",
          "data": {
            "text/plain": [
              "<IPython.core.display.Javascript object>"
            ],
            "application/javascript": [
              "download(\"download_d0cb7334-0dfd-4dc3-bc77-e72c8311a012\", \"W5Homework_ONS-L3DW.json\", 12499)"
            ]
          },
          "metadata": {}
        },
        {
          "output_type": "stream",
          "name": "stdout",
          "text": [
            "------Iteration Starts--------\n",
            "KH3N\n",
            "https://api.ons.gov.uk/timeseries/ZZ98/dataset/PN2/data\n",
            "{'description': {'cdid': 'ZZ98', 'contact': {'email': 'gdp@ons.gov.uk', 'name': 'Niamh McAuley', 'telephone': ' +44 1633 455284'}, 'datasetId': 'PN2', 'datasetUri': '/economy/grossdomesticproductgdp/datasets/secondestimateofgdp', 'date': '2021', 'nextRelease': '22 December 2022', 'number': '3.5', 'preUnit': '', 'releaseDate': '2022-11-15T00:00:00.000Z', 'sampleSize': '0', 'source': '', 'title': 'Deflator: Exports, growth annual', 'unit': '%'}, 'months': [], 'quarters': [], 'relatedDatasets': [{'uri': '/economy/grossdomesticproductgdp/datasets/secondestimateofgdp'}], 'relatedDocuments': [{'uri': '/economy/grossdomesticproductgdp/bulletins/gdpfirstquarterlyestimateuk/latest'}], 'section': {}, 'sourceDatasets': [], 'type': 'timeseries', 'uri': '/economy/grossdomesticproductgdp/timeseries/zz98/pn2', 'versions': [{'correctionNotice': '', 'label': 'v1', 'updateDate': '2017-02-22T09:30:00.000Z', 'uri': '/economy/grossdomesticproductgdp/timeseries/zz98/pn2/previous/v1'}, {'correctionNotice': '', 'label': 'v2', 'updateDate': '2017-05-25T08:30:00.000Z', 'uri': '/economy/grossdomesticproductgdp/timeseries/zz98/pn2/previous/v2'}, {'correctionNotice': '', 'label': 'v3', 'updateDate': '2017-11-23T09:30:00.000Z', 'uri': '/economy/grossdomesticproductgdp/timeseries/zz98/pn2/previous/v3'}, {'correctionNotice': '', 'label': 'v4', 'updateDate': '2018-02-22T09:30:00.000Z', 'uri': '/economy/grossdomesticproductgdp/timeseries/zz98/pn2/previous/v4'}, {'correctionNotice': '', 'label': 'v5', 'updateDate': '2018-05-25T08:30:00.000Z', 'uri': '/economy/grossdomesticproductgdp/timeseries/zz98/pn2/previous/v5'}, {'correctionNotice': '', 'label': 'v6', 'updateDate': '2018-08-10T08:30:00.000Z', 'uri': '/economy/grossdomesticproductgdp/timeseries/zz98/pn2/previous/v6'}, {'correctionNotice': '', 'label': 'v7', 'updateDate': '2019-02-11T09:30:00.000Z', 'uri': '/economy/grossdomesticproductgdp/timeseries/zz98/pn2/previous/v7'}, {'correctionNotice': '', 'label': 'v8', 'updateDate': '2019-05-10T08:30:00.000Z', 'uri': '/economy/grossdomesticproductgdp/timeseries/zz98/pn2/previous/v8'}, {'correctionNotice': '', 'label': 'v8', 'updateDate': '2019-05-10T08:30:00.000Z', 'uri': '/economy/grossdomesticproductgdp/timeseries/zz98/pn2/previous/v8'}, {'correctionNotice': '', 'label': 'v9', 'updateDate': '2019-05-10T08:59:07.447Z', 'uri': '/economy/grossdomesticproductgdp/timeseries/zz98/pn2/previous/v9'}, {'correctionNotice': '', 'label': 'v10', 'updateDate': '2019-11-11T09:30:00.000Z', 'uri': '/economy/grossdomesticproductgdp/timeseries/zz98/pn2/previous/v10'}, {'correctionNotice': '', 'label': 'v11', 'updateDate': '2020-02-11T08:11:15.587Z', 'uri': '/economy/grossdomesticproductgdp/timeseries/zz98/pn2/previous/v11'}, {'correctionNotice': '', 'label': 'v12', 'updateDate': '2020-05-13T08:30:00.000Z', 'uri': '/economy/grossdomesticproductgdp/timeseries/zz98/pn2/previous/v12'}, {'correctionNotice': '', 'label': 'v13', 'updateDate': '2020-08-12T05:39:00.000Z', 'uri': '/economy/grossdomesticproductgdp/timeseries/zz98/pn2/previous/v13'}, {'correctionNotice': '', 'label': 'v14', 'updateDate': '2020-11-12T07:00:00.000Z', 'uri': '/economy/grossdomesticproductgdp/timeseries/zz98/pn2/previous/v14'}, {'correctionNotice': '', 'label': 'v15', 'updateDate': '2021-02-12T07:00:00.000Z', 'uri': '/economy/grossdomesticproductgdp/timeseries/zz98/pn2/previous/v15'}, {'correctionNotice': '', 'label': 'v16', 'updateDate': '2021-11-11T07:00:00.000Z', 'uri': '/economy/grossdomesticproductgdp/timeseries/zz98/pn2/previous/v16'}, {'correctionNotice': '', 'label': 'v17', 'updateDate': '2022-02-11T07:00:00.000Z', 'uri': '/economy/grossdomesticproductgdp/timeseries/zz98/pn2/previous/v17'}, {'correctionNotice': '', 'label': 'v18', 'updateDate': '2022-05-12T06:00:00.000Z', 'uri': '/economy/grossdomesticproductgdp/timeseries/zz98/pn2/previous/v18'}, {'correctionNotice': '', 'label': 'v19', 'updateDate': '2022-11-11T07:00:00.000Z', 'uri': '/economy/grossdomesticproductgdp/timeseries/zz98/pn2/previous/v19'}], 'years': [{'date': '1997', 'label': '1997', 'month': '', 'quarter': '', 'sourceDataset': 'PN2', 'updateDate': '2022-11-11T00:00:00.000Z', 'value': '-7.6', 'year': '1997'}, {'date': '1998', 'label': '1998', 'month': '', 'quarter': '', 'sourceDataset': 'PN2', 'updateDate': '2022-11-11T00:00:00.000Z', 'value': '-3.4', 'year': '1998'}, {'date': '1999', 'label': '1999', 'month': '', 'quarter': '', 'sourceDataset': 'PN2', 'updateDate': '2022-11-11T00:00:00.000Z', 'value': '0.5', 'year': '1999'}, {'date': '2000', 'label': '2000', 'month': '', 'quarter': '', 'sourceDataset': 'PN2', 'updateDate': '2022-11-11T00:00:00.000Z', 'value': '1.8', 'year': '2000'}, {'date': '2001', 'label': '2001', 'month': '', 'quarter': '', 'sourceDataset': 'PN2', 'updateDate': '2022-11-11T00:00:00.000Z', 'value': '1.0', 'year': '2001'}, {'date': '2002', 'label': '2002', 'month': '', 'quarter': '', 'sourceDataset': 'PN2', 'updateDate': '2022-11-11T00:00:00.000Z', 'value': '-0.8', 'year': '2002'}, {'date': '2003', 'label': '2003', 'month': '', 'quarter': '', 'sourceDataset': 'PN2', 'updateDate': '2022-11-11T00:00:00.000Z', 'value': '2.1', 'year': '2003'}, {'date': '2004', 'label': '2004', 'month': '', 'quarter': '', 'sourceDataset': 'PN2', 'updateDate': '2022-11-11T00:00:00.000Z', 'value': '0.2', 'year': '2004'}, {'date': '2005', 'label': '2005', 'month': '', 'quarter': '', 'sourceDataset': 'PN2', 'updateDate': '2022-11-11T00:00:00.000Z', 'value': '3.4', 'year': '2005'}, {'date': '2006', 'label': '2006', 'month': '', 'quarter': '', 'sourceDataset': 'PN2', 'updateDate': '2022-11-11T00:00:00.000Z', 'value': '2.1', 'year': '2006'}, {'date': '2007', 'label': '2007', 'month': '', 'quarter': '', 'sourceDataset': 'PN2', 'updateDate': '2022-11-11T00:00:00.000Z', 'value': '-0.9', 'year': '2007'}, {'date': '2008', 'label': '2008', 'month': '', 'quarter': '', 'sourceDataset': 'PN2', 'updateDate': '2022-11-11T00:00:00.000Z', 'value': '8.3', 'year': '2008'}, {'date': '2009', 'label': '2009', 'month': '', 'quarter': '', 'sourceDataset': 'PN2', 'updateDate': '2022-11-11T00:00:00.000Z', 'value': '4.3', 'year': '2009'}, {'date': '2010', 'label': '2010', 'month': '', 'quarter': '', 'sourceDataset': 'PN2', 'updateDate': '2022-11-11T00:00:00.000Z', 'value': '4.3', 'year': '2010'}, {'date': '2011', 'label': '2011', 'month': '', 'quarter': '', 'sourceDataset': 'PN2', 'updateDate': '2021-11-11T00:00:00.000Z', 'value': '5.1', 'year': '2011'}, {'date': '2012', 'label': '2012', 'month': '', 'quarter': '', 'sourceDataset': 'PN2', 'updateDate': '2022-11-11T00:00:00.000Z', 'value': '-0.2', 'year': '2012'}, {'date': '2013', 'label': '2013', 'month': '', 'quarter': '', 'sourceDataset': 'PN2', 'updateDate': '2020-11-12T00:00:00.000Z', 'value': '2.7', 'year': '2013'}, {'date': '2014', 'label': '2014', 'month': '', 'quarter': '', 'sourceDataset': 'PN2', 'updateDate': '2022-11-11T00:00:00.000Z', 'value': '-2.4', 'year': '2014'}, {'date': '2015', 'label': '2015', 'month': '', 'quarter': '', 'sourceDataset': 'PN2', 'updateDate': '2022-11-11T00:00:00.000Z', 'value': '-3.5', 'year': '2015'}, {'date': '2016', 'label': '2016', 'month': '', 'quarter': '', 'sourceDataset': 'PN2', 'updateDate': '2022-11-11T00:00:00.000Z', 'value': '4.6', 'year': '2016'}, {'date': '2017', 'label': '2017', 'month': '', 'quarter': '', 'sourceDataset': 'PN2', 'updateDate': '2022-11-11T00:00:00.000Z', 'value': '4.5', 'year': '2017'}, {'date': '2018', 'label': '2018', 'month': '', 'quarter': '', 'sourceDataset': 'PN2', 'updateDate': '2022-11-11T00:00:00.000Z', 'value': '2.2', 'year': '2018'}, {'date': '2019', 'label': '2019', 'month': '', 'quarter': '', 'sourceDataset': 'PN2', 'updateDate': '2022-11-11T00:00:00.000Z', 'value': '2.1', 'year': '2019'}, {'date': '2020', 'label': '2020', 'month': '', 'quarter': '', 'sourceDataset': 'PN2', 'updateDate': '2022-11-11T00:00:00.000Z', 'value': '0.3', 'year': '2020'}, {'date': '2021', 'label': '2021', 'month': '', 'quarter': '', 'sourceDataset': 'PN2', 'updateDate': '2022-11-11T00:00:00.000Z', 'value': '3.5', 'year': '2021'}]}\n",
            "W5Homework_ONS-KH3N.json\n",
            "------Iteration Ends--------\n"
          ]
        },
        {
          "output_type": "display_data",
          "data": {
            "text/plain": [
              "<IPython.core.display.Javascript object>"
            ],
            "application/javascript": [
              "\n",
              "    async function download(id, filename, size) {\n",
              "      if (!google.colab.kernel.accessAllowed) {\n",
              "        return;\n",
              "      }\n",
              "      const div = document.createElement('div');\n",
              "      const label = document.createElement('label');\n",
              "      label.textContent = `Downloading \"${filename}\": `;\n",
              "      div.appendChild(label);\n",
              "      const progress = document.createElement('progress');\n",
              "      progress.max = size;\n",
              "      div.appendChild(progress);\n",
              "      document.body.appendChild(div);\n",
              "\n",
              "      const buffers = [];\n",
              "      let downloaded = 0;\n",
              "\n",
              "      const channel = await google.colab.kernel.comms.open(id);\n",
              "      // Send a message to notify the kernel that we're ready.\n",
              "      channel.send({})\n",
              "\n",
              "      for await (const message of channel.messages) {\n",
              "        // Send a message to notify the kernel that we're ready.\n",
              "        channel.send({})\n",
              "        if (message.buffers) {\n",
              "          for (const buffer of message.buffers) {\n",
              "            buffers.push(buffer);\n",
              "            downloaded += buffer.byteLength;\n",
              "            progress.value = downloaded;\n",
              "          }\n",
              "        }\n",
              "      }\n",
              "      const blob = new Blob(buffers, {type: 'application/binary'});\n",
              "      const a = document.createElement('a');\n",
              "      a.href = window.URL.createObjectURL(blob);\n",
              "      a.download = filename;\n",
              "      div.appendChild(a);\n",
              "      a.click();\n",
              "      div.remove();\n",
              "    }\n",
              "  "
            ]
          },
          "metadata": {}
        },
        {
          "output_type": "display_data",
          "data": {
            "text/plain": [
              "<IPython.core.display.Javascript object>"
            ],
            "application/javascript": [
              "download(\"download_84d84164-0382-4b9c-b726-8fe922a7d182\", \"W5Homework_ONS-KH3N.json\", 12499)"
            ]
          },
          "metadata": {}
        },
        {
          "output_type": "stream",
          "name": "stdout",
          "text": [
            "------Iteration Starts--------\n",
            "ZZ6B\n",
            "https://api.ons.gov.uk/timeseries/ZZ98/dataset/PN2/data\n",
            "{'description': {'cdid': 'ZZ98', 'contact': {'email': 'gdp@ons.gov.uk', 'name': 'Niamh McAuley', 'telephone': ' +44 1633 455284'}, 'datasetId': 'PN2', 'datasetUri': '/economy/grossdomesticproductgdp/datasets/secondestimateofgdp', 'date': '2021', 'nextRelease': '22 December 2022', 'number': '3.5', 'preUnit': '', 'releaseDate': '2022-11-15T00:00:00.000Z', 'sampleSize': '0', 'source': '', 'title': 'Deflator: Exports, growth annual', 'unit': '%'}, 'months': [], 'quarters': [], 'relatedDatasets': [{'uri': '/economy/grossdomesticproductgdp/datasets/secondestimateofgdp'}], 'relatedDocuments': [{'uri': '/economy/grossdomesticproductgdp/bulletins/gdpfirstquarterlyestimateuk/latest'}], 'section': {}, 'sourceDatasets': [], 'type': 'timeseries', 'uri': '/economy/grossdomesticproductgdp/timeseries/zz98/pn2', 'versions': [{'correctionNotice': '', 'label': 'v1', 'updateDate': '2017-02-22T09:30:00.000Z', 'uri': '/economy/grossdomesticproductgdp/timeseries/zz98/pn2/previous/v1'}, {'correctionNotice': '', 'label': 'v2', 'updateDate': '2017-05-25T08:30:00.000Z', 'uri': '/economy/grossdomesticproductgdp/timeseries/zz98/pn2/previous/v2'}, {'correctionNotice': '', 'label': 'v3', 'updateDate': '2017-11-23T09:30:00.000Z', 'uri': '/economy/grossdomesticproductgdp/timeseries/zz98/pn2/previous/v3'}, {'correctionNotice': '', 'label': 'v4', 'updateDate': '2018-02-22T09:30:00.000Z', 'uri': '/economy/grossdomesticproductgdp/timeseries/zz98/pn2/previous/v4'}, {'correctionNotice': '', 'label': 'v5', 'updateDate': '2018-05-25T08:30:00.000Z', 'uri': '/economy/grossdomesticproductgdp/timeseries/zz98/pn2/previous/v5'}, {'correctionNotice': '', 'label': 'v6', 'updateDate': '2018-08-10T08:30:00.000Z', 'uri': '/economy/grossdomesticproductgdp/timeseries/zz98/pn2/previous/v6'}, {'correctionNotice': '', 'label': 'v7', 'updateDate': '2019-02-11T09:30:00.000Z', 'uri': '/economy/grossdomesticproductgdp/timeseries/zz98/pn2/previous/v7'}, {'correctionNotice': '', 'label': 'v8', 'updateDate': '2019-05-10T08:30:00.000Z', 'uri': '/economy/grossdomesticproductgdp/timeseries/zz98/pn2/previous/v8'}, {'correctionNotice': '', 'label': 'v8', 'updateDate': '2019-05-10T08:30:00.000Z', 'uri': '/economy/grossdomesticproductgdp/timeseries/zz98/pn2/previous/v8'}, {'correctionNotice': '', 'label': 'v9', 'updateDate': '2019-05-10T08:59:07.447Z', 'uri': '/economy/grossdomesticproductgdp/timeseries/zz98/pn2/previous/v9'}, {'correctionNotice': '', 'label': 'v10', 'updateDate': '2019-11-11T09:30:00.000Z', 'uri': '/economy/grossdomesticproductgdp/timeseries/zz98/pn2/previous/v10'}, {'correctionNotice': '', 'label': 'v11', 'updateDate': '2020-02-11T08:11:15.587Z', 'uri': '/economy/grossdomesticproductgdp/timeseries/zz98/pn2/previous/v11'}, {'correctionNotice': '', 'label': 'v12', 'updateDate': '2020-05-13T08:30:00.000Z', 'uri': '/economy/grossdomesticproductgdp/timeseries/zz98/pn2/previous/v12'}, {'correctionNotice': '', 'label': 'v13', 'updateDate': '2020-08-12T05:39:00.000Z', 'uri': '/economy/grossdomesticproductgdp/timeseries/zz98/pn2/previous/v13'}, {'correctionNotice': '', 'label': 'v14', 'updateDate': '2020-11-12T07:00:00.000Z', 'uri': '/economy/grossdomesticproductgdp/timeseries/zz98/pn2/previous/v14'}, {'correctionNotice': '', 'label': 'v15', 'updateDate': '2021-02-12T07:00:00.000Z', 'uri': '/economy/grossdomesticproductgdp/timeseries/zz98/pn2/previous/v15'}, {'correctionNotice': '', 'label': 'v16', 'updateDate': '2021-11-11T07:00:00.000Z', 'uri': '/economy/grossdomesticproductgdp/timeseries/zz98/pn2/previous/v16'}, {'correctionNotice': '', 'label': 'v17', 'updateDate': '2022-02-11T07:00:00.000Z', 'uri': '/economy/grossdomesticproductgdp/timeseries/zz98/pn2/previous/v17'}, {'correctionNotice': '', 'label': 'v18', 'updateDate': '2022-05-12T06:00:00.000Z', 'uri': '/economy/grossdomesticproductgdp/timeseries/zz98/pn2/previous/v18'}, {'correctionNotice': '', 'label': 'v19', 'updateDate': '2022-11-11T07:00:00.000Z', 'uri': '/economy/grossdomesticproductgdp/timeseries/zz98/pn2/previous/v19'}], 'years': [{'date': '1997', 'label': '1997', 'month': '', 'quarter': '', 'sourceDataset': 'PN2', 'updateDate': '2022-11-11T00:00:00.000Z', 'value': '-7.6', 'year': '1997'}, {'date': '1998', 'label': '1998', 'month': '', 'quarter': '', 'sourceDataset': 'PN2', 'updateDate': '2022-11-11T00:00:00.000Z', 'value': '-3.4', 'year': '1998'}, {'date': '1999', 'label': '1999', 'month': '', 'quarter': '', 'sourceDataset': 'PN2', 'updateDate': '2022-11-11T00:00:00.000Z', 'value': '0.5', 'year': '1999'}, {'date': '2000', 'label': '2000', 'month': '', 'quarter': '', 'sourceDataset': 'PN2', 'updateDate': '2022-11-11T00:00:00.000Z', 'value': '1.8', 'year': '2000'}, {'date': '2001', 'label': '2001', 'month': '', 'quarter': '', 'sourceDataset': 'PN2', 'updateDate': '2022-11-11T00:00:00.000Z', 'value': '1.0', 'year': '2001'}, {'date': '2002', 'label': '2002', 'month': '', 'quarter': '', 'sourceDataset': 'PN2', 'updateDate': '2022-11-11T00:00:00.000Z', 'value': '-0.8', 'year': '2002'}, {'date': '2003', 'label': '2003', 'month': '', 'quarter': '', 'sourceDataset': 'PN2', 'updateDate': '2022-11-11T00:00:00.000Z', 'value': '2.1', 'year': '2003'}, {'date': '2004', 'label': '2004', 'month': '', 'quarter': '', 'sourceDataset': 'PN2', 'updateDate': '2022-11-11T00:00:00.000Z', 'value': '0.2', 'year': '2004'}, {'date': '2005', 'label': '2005', 'month': '', 'quarter': '', 'sourceDataset': 'PN2', 'updateDate': '2022-11-11T00:00:00.000Z', 'value': '3.4', 'year': '2005'}, {'date': '2006', 'label': '2006', 'month': '', 'quarter': '', 'sourceDataset': 'PN2', 'updateDate': '2022-11-11T00:00:00.000Z', 'value': '2.1', 'year': '2006'}, {'date': '2007', 'label': '2007', 'month': '', 'quarter': '', 'sourceDataset': 'PN2', 'updateDate': '2022-11-11T00:00:00.000Z', 'value': '-0.9', 'year': '2007'}, {'date': '2008', 'label': '2008', 'month': '', 'quarter': '', 'sourceDataset': 'PN2', 'updateDate': '2022-11-11T00:00:00.000Z', 'value': '8.3', 'year': '2008'}, {'date': '2009', 'label': '2009', 'month': '', 'quarter': '', 'sourceDataset': 'PN2', 'updateDate': '2022-11-11T00:00:00.000Z', 'value': '4.3', 'year': '2009'}, {'date': '2010', 'label': '2010', 'month': '', 'quarter': '', 'sourceDataset': 'PN2', 'updateDate': '2022-11-11T00:00:00.000Z', 'value': '4.3', 'year': '2010'}, {'date': '2011', 'label': '2011', 'month': '', 'quarter': '', 'sourceDataset': 'PN2', 'updateDate': '2021-11-11T00:00:00.000Z', 'value': '5.1', 'year': '2011'}, {'date': '2012', 'label': '2012', 'month': '', 'quarter': '', 'sourceDataset': 'PN2', 'updateDate': '2022-11-11T00:00:00.000Z', 'value': '-0.2', 'year': '2012'}, {'date': '2013', 'label': '2013', 'month': '', 'quarter': '', 'sourceDataset': 'PN2', 'updateDate': '2020-11-12T00:00:00.000Z', 'value': '2.7', 'year': '2013'}, {'date': '2014', 'label': '2014', 'month': '', 'quarter': '', 'sourceDataset': 'PN2', 'updateDate': '2022-11-11T00:00:00.000Z', 'value': '-2.4', 'year': '2014'}, {'date': '2015', 'label': '2015', 'month': '', 'quarter': '', 'sourceDataset': 'PN2', 'updateDate': '2022-11-11T00:00:00.000Z', 'value': '-3.5', 'year': '2015'}, {'date': '2016', 'label': '2016', 'month': '', 'quarter': '', 'sourceDataset': 'PN2', 'updateDate': '2022-11-11T00:00:00.000Z', 'value': '4.6', 'year': '2016'}, {'date': '2017', 'label': '2017', 'month': '', 'quarter': '', 'sourceDataset': 'PN2', 'updateDate': '2022-11-11T00:00:00.000Z', 'value': '4.5', 'year': '2017'}, {'date': '2018', 'label': '2018', 'month': '', 'quarter': '', 'sourceDataset': 'PN2', 'updateDate': '2022-11-11T00:00:00.000Z', 'value': '2.2', 'year': '2018'}, {'date': '2019', 'label': '2019', 'month': '', 'quarter': '', 'sourceDataset': 'PN2', 'updateDate': '2022-11-11T00:00:00.000Z', 'value': '2.1', 'year': '2019'}, {'date': '2020', 'label': '2020', 'month': '', 'quarter': '', 'sourceDataset': 'PN2', 'updateDate': '2022-11-11T00:00:00.000Z', 'value': '0.3', 'year': '2020'}, {'date': '2021', 'label': '2021', 'month': '', 'quarter': '', 'sourceDataset': 'PN2', 'updateDate': '2022-11-11T00:00:00.000Z', 'value': '3.5', 'year': '2021'}]}\n",
            "W5Homework_ONS-ZZ6B.json\n",
            "------Iteration Ends--------\n"
          ]
        },
        {
          "output_type": "display_data",
          "data": {
            "text/plain": [
              "<IPython.core.display.Javascript object>"
            ],
            "application/javascript": [
              "\n",
              "    async function download(id, filename, size) {\n",
              "      if (!google.colab.kernel.accessAllowed) {\n",
              "        return;\n",
              "      }\n",
              "      const div = document.createElement('div');\n",
              "      const label = document.createElement('label');\n",
              "      label.textContent = `Downloading \"${filename}\": `;\n",
              "      div.appendChild(label);\n",
              "      const progress = document.createElement('progress');\n",
              "      progress.max = size;\n",
              "      div.appendChild(progress);\n",
              "      document.body.appendChild(div);\n",
              "\n",
              "      const buffers = [];\n",
              "      let downloaded = 0;\n",
              "\n",
              "      const channel = await google.colab.kernel.comms.open(id);\n",
              "      // Send a message to notify the kernel that we're ready.\n",
              "      channel.send({})\n",
              "\n",
              "      for await (const message of channel.messages) {\n",
              "        // Send a message to notify the kernel that we're ready.\n",
              "        channel.send({})\n",
              "        if (message.buffers) {\n",
              "          for (const buffer of message.buffers) {\n",
              "            buffers.push(buffer);\n",
              "            downloaded += buffer.byteLength;\n",
              "            progress.value = downloaded;\n",
              "          }\n",
              "        }\n",
              "      }\n",
              "      const blob = new Blob(buffers, {type: 'application/binary'});\n",
              "      const a = document.createElement('a');\n",
              "      a.href = window.URL.createObjectURL(blob);\n",
              "      a.download = filename;\n",
              "      div.appendChild(a);\n",
              "      a.click();\n",
              "      div.remove();\n",
              "    }\n",
              "  "
            ]
          },
          "metadata": {}
        },
        {
          "output_type": "display_data",
          "data": {
            "text/plain": [
              "<IPython.core.display.Javascript object>"
            ],
            "application/javascript": [
              "download(\"download_86e9c03f-c300-4924-95b2-2f132530521f\", \"W5Homework_ONS-ZZ6B.json\", 12499)"
            ]
          },
          "metadata": {}
        },
        {
          "output_type": "stream",
          "name": "stdout",
          "text": [
            "------Iteration Starts--------\n",
            "KH2D\n",
            "https://api.ons.gov.uk/timeseries/ZZ98/dataset/PN2/data\n",
            "{'description': {'cdid': 'ZZ98', 'contact': {'email': 'gdp@ons.gov.uk', 'name': 'Niamh McAuley', 'telephone': ' +44 1633 455284'}, 'datasetId': 'PN2', 'datasetUri': '/economy/grossdomesticproductgdp/datasets/secondestimateofgdp', 'date': '2021', 'nextRelease': '22 December 2022', 'number': '3.5', 'preUnit': '', 'releaseDate': '2022-11-15T00:00:00.000Z', 'sampleSize': '0', 'source': '', 'title': 'Deflator: Exports, growth annual', 'unit': '%'}, 'months': [], 'quarters': [], 'relatedDatasets': [{'uri': '/economy/grossdomesticproductgdp/datasets/secondestimateofgdp'}], 'relatedDocuments': [{'uri': '/economy/grossdomesticproductgdp/bulletins/gdpfirstquarterlyestimateuk/latest'}], 'section': {}, 'sourceDatasets': [], 'type': 'timeseries', 'uri': '/economy/grossdomesticproductgdp/timeseries/zz98/pn2', 'versions': [{'correctionNotice': '', 'label': 'v1', 'updateDate': '2017-02-22T09:30:00.000Z', 'uri': '/economy/grossdomesticproductgdp/timeseries/zz98/pn2/previous/v1'}, {'correctionNotice': '', 'label': 'v2', 'updateDate': '2017-05-25T08:30:00.000Z', 'uri': '/economy/grossdomesticproductgdp/timeseries/zz98/pn2/previous/v2'}, {'correctionNotice': '', 'label': 'v3', 'updateDate': '2017-11-23T09:30:00.000Z', 'uri': '/economy/grossdomesticproductgdp/timeseries/zz98/pn2/previous/v3'}, {'correctionNotice': '', 'label': 'v4', 'updateDate': '2018-02-22T09:30:00.000Z', 'uri': '/economy/grossdomesticproductgdp/timeseries/zz98/pn2/previous/v4'}, {'correctionNotice': '', 'label': 'v5', 'updateDate': '2018-05-25T08:30:00.000Z', 'uri': '/economy/grossdomesticproductgdp/timeseries/zz98/pn2/previous/v5'}, {'correctionNotice': '', 'label': 'v6', 'updateDate': '2018-08-10T08:30:00.000Z', 'uri': '/economy/grossdomesticproductgdp/timeseries/zz98/pn2/previous/v6'}, {'correctionNotice': '', 'label': 'v7', 'updateDate': '2019-02-11T09:30:00.000Z', 'uri': '/economy/grossdomesticproductgdp/timeseries/zz98/pn2/previous/v7'}, {'correctionNotice': '', 'label': 'v8', 'updateDate': '2019-05-10T08:30:00.000Z', 'uri': '/economy/grossdomesticproductgdp/timeseries/zz98/pn2/previous/v8'}, {'correctionNotice': '', 'label': 'v8', 'updateDate': '2019-05-10T08:30:00.000Z', 'uri': '/economy/grossdomesticproductgdp/timeseries/zz98/pn2/previous/v8'}, {'correctionNotice': '', 'label': 'v9', 'updateDate': '2019-05-10T08:59:07.447Z', 'uri': '/economy/grossdomesticproductgdp/timeseries/zz98/pn2/previous/v9'}, {'correctionNotice': '', 'label': 'v10', 'updateDate': '2019-11-11T09:30:00.000Z', 'uri': '/economy/grossdomesticproductgdp/timeseries/zz98/pn2/previous/v10'}, {'correctionNotice': '', 'label': 'v11', 'updateDate': '2020-02-11T08:11:15.587Z', 'uri': '/economy/grossdomesticproductgdp/timeseries/zz98/pn2/previous/v11'}, {'correctionNotice': '', 'label': 'v12', 'updateDate': '2020-05-13T08:30:00.000Z', 'uri': '/economy/grossdomesticproductgdp/timeseries/zz98/pn2/previous/v12'}, {'correctionNotice': '', 'label': 'v13', 'updateDate': '2020-08-12T05:39:00.000Z', 'uri': '/economy/grossdomesticproductgdp/timeseries/zz98/pn2/previous/v13'}, {'correctionNotice': '', 'label': 'v14', 'updateDate': '2020-11-12T07:00:00.000Z', 'uri': '/economy/grossdomesticproductgdp/timeseries/zz98/pn2/previous/v14'}, {'correctionNotice': '', 'label': 'v15', 'updateDate': '2021-02-12T07:00:00.000Z', 'uri': '/economy/grossdomesticproductgdp/timeseries/zz98/pn2/previous/v15'}, {'correctionNotice': '', 'label': 'v16', 'updateDate': '2021-11-11T07:00:00.000Z', 'uri': '/economy/grossdomesticproductgdp/timeseries/zz98/pn2/previous/v16'}, {'correctionNotice': '', 'label': 'v17', 'updateDate': '2022-02-11T07:00:00.000Z', 'uri': '/economy/grossdomesticproductgdp/timeseries/zz98/pn2/previous/v17'}, {'correctionNotice': '', 'label': 'v18', 'updateDate': '2022-05-12T06:00:00.000Z', 'uri': '/economy/grossdomesticproductgdp/timeseries/zz98/pn2/previous/v18'}, {'correctionNotice': '', 'label': 'v19', 'updateDate': '2022-11-11T07:00:00.000Z', 'uri': '/economy/grossdomesticproductgdp/timeseries/zz98/pn2/previous/v19'}], 'years': [{'date': '1997', 'label': '1997', 'month': '', 'quarter': '', 'sourceDataset': 'PN2', 'updateDate': '2022-11-11T00:00:00.000Z', 'value': '-7.6', 'year': '1997'}, {'date': '1998', 'label': '1998', 'month': '', 'quarter': '', 'sourceDataset': 'PN2', 'updateDate': '2022-11-11T00:00:00.000Z', 'value': '-3.4', 'year': '1998'}, {'date': '1999', 'label': '1999', 'month': '', 'quarter': '', 'sourceDataset': 'PN2', 'updateDate': '2022-11-11T00:00:00.000Z', 'value': '0.5', 'year': '1999'}, {'date': '2000', 'label': '2000', 'month': '', 'quarter': '', 'sourceDataset': 'PN2', 'updateDate': '2022-11-11T00:00:00.000Z', 'value': '1.8', 'year': '2000'}, {'date': '2001', 'label': '2001', 'month': '', 'quarter': '', 'sourceDataset': 'PN2', 'updateDate': '2022-11-11T00:00:00.000Z', 'value': '1.0', 'year': '2001'}, {'date': '2002', 'label': '2002', 'month': '', 'quarter': '', 'sourceDataset': 'PN2', 'updateDate': '2022-11-11T00:00:00.000Z', 'value': '-0.8', 'year': '2002'}, {'date': '2003', 'label': '2003', 'month': '', 'quarter': '', 'sourceDataset': 'PN2', 'updateDate': '2022-11-11T00:00:00.000Z', 'value': '2.1', 'year': '2003'}, {'date': '2004', 'label': '2004', 'month': '', 'quarter': '', 'sourceDataset': 'PN2', 'updateDate': '2022-11-11T00:00:00.000Z', 'value': '0.2', 'year': '2004'}, {'date': '2005', 'label': '2005', 'month': '', 'quarter': '', 'sourceDataset': 'PN2', 'updateDate': '2022-11-11T00:00:00.000Z', 'value': '3.4', 'year': '2005'}, {'date': '2006', 'label': '2006', 'month': '', 'quarter': '', 'sourceDataset': 'PN2', 'updateDate': '2022-11-11T00:00:00.000Z', 'value': '2.1', 'year': '2006'}, {'date': '2007', 'label': '2007', 'month': '', 'quarter': '', 'sourceDataset': 'PN2', 'updateDate': '2022-11-11T00:00:00.000Z', 'value': '-0.9', 'year': '2007'}, {'date': '2008', 'label': '2008', 'month': '', 'quarter': '', 'sourceDataset': 'PN2', 'updateDate': '2022-11-11T00:00:00.000Z', 'value': '8.3', 'year': '2008'}, {'date': '2009', 'label': '2009', 'month': '', 'quarter': '', 'sourceDataset': 'PN2', 'updateDate': '2022-11-11T00:00:00.000Z', 'value': '4.3', 'year': '2009'}, {'date': '2010', 'label': '2010', 'month': '', 'quarter': '', 'sourceDataset': 'PN2', 'updateDate': '2022-11-11T00:00:00.000Z', 'value': '4.3', 'year': '2010'}, {'date': '2011', 'label': '2011', 'month': '', 'quarter': '', 'sourceDataset': 'PN2', 'updateDate': '2021-11-11T00:00:00.000Z', 'value': '5.1', 'year': '2011'}, {'date': '2012', 'label': '2012', 'month': '', 'quarter': '', 'sourceDataset': 'PN2', 'updateDate': '2022-11-11T00:00:00.000Z', 'value': '-0.2', 'year': '2012'}, {'date': '2013', 'label': '2013', 'month': '', 'quarter': '', 'sourceDataset': 'PN2', 'updateDate': '2020-11-12T00:00:00.000Z', 'value': '2.7', 'year': '2013'}, {'date': '2014', 'label': '2014', 'month': '', 'quarter': '', 'sourceDataset': 'PN2', 'updateDate': '2022-11-11T00:00:00.000Z', 'value': '-2.4', 'year': '2014'}, {'date': '2015', 'label': '2015', 'month': '', 'quarter': '', 'sourceDataset': 'PN2', 'updateDate': '2022-11-11T00:00:00.000Z', 'value': '-3.5', 'year': '2015'}, {'date': '2016', 'label': '2016', 'month': '', 'quarter': '', 'sourceDataset': 'PN2', 'updateDate': '2022-11-11T00:00:00.000Z', 'value': '4.6', 'year': '2016'}, {'date': '2017', 'label': '2017', 'month': '', 'quarter': '', 'sourceDataset': 'PN2', 'updateDate': '2022-11-11T00:00:00.000Z', 'value': '4.5', 'year': '2017'}, {'date': '2018', 'label': '2018', 'month': '', 'quarter': '', 'sourceDataset': 'PN2', 'updateDate': '2022-11-11T00:00:00.000Z', 'value': '2.2', 'year': '2018'}, {'date': '2019', 'label': '2019', 'month': '', 'quarter': '', 'sourceDataset': 'PN2', 'updateDate': '2022-11-11T00:00:00.000Z', 'value': '2.1', 'year': '2019'}, {'date': '2020', 'label': '2020', 'month': '', 'quarter': '', 'sourceDataset': 'PN2', 'updateDate': '2022-11-11T00:00:00.000Z', 'value': '0.3', 'year': '2020'}, {'date': '2021', 'label': '2021', 'month': '', 'quarter': '', 'sourceDataset': 'PN2', 'updateDate': '2022-11-11T00:00:00.000Z', 'value': '3.5', 'year': '2021'}]}\n",
            "W5Homework_ONS-KH2D.json\n",
            "------Iteration Ends--------\n"
          ]
        },
        {
          "output_type": "display_data",
          "data": {
            "text/plain": [
              "<IPython.core.display.Javascript object>"
            ],
            "application/javascript": [
              "\n",
              "    async function download(id, filename, size) {\n",
              "      if (!google.colab.kernel.accessAllowed) {\n",
              "        return;\n",
              "      }\n",
              "      const div = document.createElement('div');\n",
              "      const label = document.createElement('label');\n",
              "      label.textContent = `Downloading \"${filename}\": `;\n",
              "      div.appendChild(label);\n",
              "      const progress = document.createElement('progress');\n",
              "      progress.max = size;\n",
              "      div.appendChild(progress);\n",
              "      document.body.appendChild(div);\n",
              "\n",
              "      const buffers = [];\n",
              "      let downloaded = 0;\n",
              "\n",
              "      const channel = await google.colab.kernel.comms.open(id);\n",
              "      // Send a message to notify the kernel that we're ready.\n",
              "      channel.send({})\n",
              "\n",
              "      for await (const message of channel.messages) {\n",
              "        // Send a message to notify the kernel that we're ready.\n",
              "        channel.send({})\n",
              "        if (message.buffers) {\n",
              "          for (const buffer of message.buffers) {\n",
              "            buffers.push(buffer);\n",
              "            downloaded += buffer.byteLength;\n",
              "            progress.value = downloaded;\n",
              "          }\n",
              "        }\n",
              "      }\n",
              "      const blob = new Blob(buffers, {type: 'application/binary'});\n",
              "      const a = document.createElement('a');\n",
              "      a.href = window.URL.createObjectURL(blob);\n",
              "      a.download = filename;\n",
              "      div.appendChild(a);\n",
              "      a.click();\n",
              "      div.remove();\n",
              "    }\n",
              "  "
            ]
          },
          "metadata": {}
        },
        {
          "output_type": "display_data",
          "data": {
            "text/plain": [
              "<IPython.core.display.Javascript object>"
            ],
            "application/javascript": [
              "download(\"download_67f9d842-d17a-4700-94ed-e263662841bc\", \"W5Homework_ONS-KH2D.json\", 12499)"
            ]
          },
          "metadata": {}
        },
        {
          "output_type": "stream",
          "name": "stdout",
          "text": [
            "------Iteration Starts--------\n",
            "CWNJ\n",
            "https://api.ons.gov.uk/timeseries/ZZ98/dataset/PN2/data\n",
            "{'description': {'cdid': 'ZZ98', 'contact': {'email': 'gdp@ons.gov.uk', 'name': 'Niamh McAuley', 'telephone': ' +44 1633 455284'}, 'datasetId': 'PN2', 'datasetUri': '/economy/grossdomesticproductgdp/datasets/secondestimateofgdp', 'date': '2021', 'nextRelease': '22 December 2022', 'number': '3.5', 'preUnit': '', 'releaseDate': '2022-11-15T00:00:00.000Z', 'sampleSize': '0', 'source': '', 'title': 'Deflator: Exports, growth annual', 'unit': '%'}, 'months': [], 'quarters': [], 'relatedDatasets': [{'uri': '/economy/grossdomesticproductgdp/datasets/secondestimateofgdp'}], 'relatedDocuments': [{'uri': '/economy/grossdomesticproductgdp/bulletins/gdpfirstquarterlyestimateuk/latest'}], 'section': {}, 'sourceDatasets': [], 'type': 'timeseries', 'uri': '/economy/grossdomesticproductgdp/timeseries/zz98/pn2', 'versions': [{'correctionNotice': '', 'label': 'v1', 'updateDate': '2017-02-22T09:30:00.000Z', 'uri': '/economy/grossdomesticproductgdp/timeseries/zz98/pn2/previous/v1'}, {'correctionNotice': '', 'label': 'v2', 'updateDate': '2017-05-25T08:30:00.000Z', 'uri': '/economy/grossdomesticproductgdp/timeseries/zz98/pn2/previous/v2'}, {'correctionNotice': '', 'label': 'v3', 'updateDate': '2017-11-23T09:30:00.000Z', 'uri': '/economy/grossdomesticproductgdp/timeseries/zz98/pn2/previous/v3'}, {'correctionNotice': '', 'label': 'v4', 'updateDate': '2018-02-22T09:30:00.000Z', 'uri': '/economy/grossdomesticproductgdp/timeseries/zz98/pn2/previous/v4'}, {'correctionNotice': '', 'label': 'v5', 'updateDate': '2018-05-25T08:30:00.000Z', 'uri': '/economy/grossdomesticproductgdp/timeseries/zz98/pn2/previous/v5'}, {'correctionNotice': '', 'label': 'v6', 'updateDate': '2018-08-10T08:30:00.000Z', 'uri': '/economy/grossdomesticproductgdp/timeseries/zz98/pn2/previous/v6'}, {'correctionNotice': '', 'label': 'v7', 'updateDate': '2019-02-11T09:30:00.000Z', 'uri': '/economy/grossdomesticproductgdp/timeseries/zz98/pn2/previous/v7'}, {'correctionNotice': '', 'label': 'v8', 'updateDate': '2019-05-10T08:30:00.000Z', 'uri': '/economy/grossdomesticproductgdp/timeseries/zz98/pn2/previous/v8'}, {'correctionNotice': '', 'label': 'v8', 'updateDate': '2019-05-10T08:30:00.000Z', 'uri': '/economy/grossdomesticproductgdp/timeseries/zz98/pn2/previous/v8'}, {'correctionNotice': '', 'label': 'v9', 'updateDate': '2019-05-10T08:59:07.447Z', 'uri': '/economy/grossdomesticproductgdp/timeseries/zz98/pn2/previous/v9'}, {'correctionNotice': '', 'label': 'v10', 'updateDate': '2019-11-11T09:30:00.000Z', 'uri': '/economy/grossdomesticproductgdp/timeseries/zz98/pn2/previous/v10'}, {'correctionNotice': '', 'label': 'v11', 'updateDate': '2020-02-11T08:11:15.587Z', 'uri': '/economy/grossdomesticproductgdp/timeseries/zz98/pn2/previous/v11'}, {'correctionNotice': '', 'label': 'v12', 'updateDate': '2020-05-13T08:30:00.000Z', 'uri': '/economy/grossdomesticproductgdp/timeseries/zz98/pn2/previous/v12'}, {'correctionNotice': '', 'label': 'v13', 'updateDate': '2020-08-12T05:39:00.000Z', 'uri': '/economy/grossdomesticproductgdp/timeseries/zz98/pn2/previous/v13'}, {'correctionNotice': '', 'label': 'v14', 'updateDate': '2020-11-12T07:00:00.000Z', 'uri': '/economy/grossdomesticproductgdp/timeseries/zz98/pn2/previous/v14'}, {'correctionNotice': '', 'label': 'v15', 'updateDate': '2021-02-12T07:00:00.000Z', 'uri': '/economy/grossdomesticproductgdp/timeseries/zz98/pn2/previous/v15'}, {'correctionNotice': '', 'label': 'v16', 'updateDate': '2021-11-11T07:00:00.000Z', 'uri': '/economy/grossdomesticproductgdp/timeseries/zz98/pn2/previous/v16'}, {'correctionNotice': '', 'label': 'v17', 'updateDate': '2022-02-11T07:00:00.000Z', 'uri': '/economy/grossdomesticproductgdp/timeseries/zz98/pn2/previous/v17'}, {'correctionNotice': '', 'label': 'v18', 'updateDate': '2022-05-12T06:00:00.000Z', 'uri': '/economy/grossdomesticproductgdp/timeseries/zz98/pn2/previous/v18'}, {'correctionNotice': '', 'label': 'v19', 'updateDate': '2022-11-11T07:00:00.000Z', 'uri': '/economy/grossdomesticproductgdp/timeseries/zz98/pn2/previous/v19'}], 'years': [{'date': '1997', 'label': '1997', 'month': '', 'quarter': '', 'sourceDataset': 'PN2', 'updateDate': '2022-11-11T00:00:00.000Z', 'value': '-7.6', 'year': '1997'}, {'date': '1998', 'label': '1998', 'month': '', 'quarter': '', 'sourceDataset': 'PN2', 'updateDate': '2022-11-11T00:00:00.000Z', 'value': '-3.4', 'year': '1998'}, {'date': '1999', 'label': '1999', 'month': '', 'quarter': '', 'sourceDataset': 'PN2', 'updateDate': '2022-11-11T00:00:00.000Z', 'value': '0.5', 'year': '1999'}, {'date': '2000', 'label': '2000', 'month': '', 'quarter': '', 'sourceDataset': 'PN2', 'updateDate': '2022-11-11T00:00:00.000Z', 'value': '1.8', 'year': '2000'}, {'date': '2001', 'label': '2001', 'month': '', 'quarter': '', 'sourceDataset': 'PN2', 'updateDate': '2022-11-11T00:00:00.000Z', 'value': '1.0', 'year': '2001'}, {'date': '2002', 'label': '2002', 'month': '', 'quarter': '', 'sourceDataset': 'PN2', 'updateDate': '2022-11-11T00:00:00.000Z', 'value': '-0.8', 'year': '2002'}, {'date': '2003', 'label': '2003', 'month': '', 'quarter': '', 'sourceDataset': 'PN2', 'updateDate': '2022-11-11T00:00:00.000Z', 'value': '2.1', 'year': '2003'}, {'date': '2004', 'label': '2004', 'month': '', 'quarter': '', 'sourceDataset': 'PN2', 'updateDate': '2022-11-11T00:00:00.000Z', 'value': '0.2', 'year': '2004'}, {'date': '2005', 'label': '2005', 'month': '', 'quarter': '', 'sourceDataset': 'PN2', 'updateDate': '2022-11-11T00:00:00.000Z', 'value': '3.4', 'year': '2005'}, {'date': '2006', 'label': '2006', 'month': '', 'quarter': '', 'sourceDataset': 'PN2', 'updateDate': '2022-11-11T00:00:00.000Z', 'value': '2.1', 'year': '2006'}, {'date': '2007', 'label': '2007', 'month': '', 'quarter': '', 'sourceDataset': 'PN2', 'updateDate': '2022-11-11T00:00:00.000Z', 'value': '-0.9', 'year': '2007'}, {'date': '2008', 'label': '2008', 'month': '', 'quarter': '', 'sourceDataset': 'PN2', 'updateDate': '2022-11-11T00:00:00.000Z', 'value': '8.3', 'year': '2008'}, {'date': '2009', 'label': '2009', 'month': '', 'quarter': '', 'sourceDataset': 'PN2', 'updateDate': '2022-11-11T00:00:00.000Z', 'value': '4.3', 'year': '2009'}, {'date': '2010', 'label': '2010', 'month': '', 'quarter': '', 'sourceDataset': 'PN2', 'updateDate': '2022-11-11T00:00:00.000Z', 'value': '4.3', 'year': '2010'}, {'date': '2011', 'label': '2011', 'month': '', 'quarter': '', 'sourceDataset': 'PN2', 'updateDate': '2021-11-11T00:00:00.000Z', 'value': '5.1', 'year': '2011'}, {'date': '2012', 'label': '2012', 'month': '', 'quarter': '', 'sourceDataset': 'PN2', 'updateDate': '2022-11-11T00:00:00.000Z', 'value': '-0.2', 'year': '2012'}, {'date': '2013', 'label': '2013', 'month': '', 'quarter': '', 'sourceDataset': 'PN2', 'updateDate': '2020-11-12T00:00:00.000Z', 'value': '2.7', 'year': '2013'}, {'date': '2014', 'label': '2014', 'month': '', 'quarter': '', 'sourceDataset': 'PN2', 'updateDate': '2022-11-11T00:00:00.000Z', 'value': '-2.4', 'year': '2014'}, {'date': '2015', 'label': '2015', 'month': '', 'quarter': '', 'sourceDataset': 'PN2', 'updateDate': '2022-11-11T00:00:00.000Z', 'value': '-3.5', 'year': '2015'}, {'date': '2016', 'label': '2016', 'month': '', 'quarter': '', 'sourceDataset': 'PN2', 'updateDate': '2022-11-11T00:00:00.000Z', 'value': '4.6', 'year': '2016'}, {'date': '2017', 'label': '2017', 'month': '', 'quarter': '', 'sourceDataset': 'PN2', 'updateDate': '2022-11-11T00:00:00.000Z', 'value': '4.5', 'year': '2017'}, {'date': '2018', 'label': '2018', 'month': '', 'quarter': '', 'sourceDataset': 'PN2', 'updateDate': '2022-11-11T00:00:00.000Z', 'value': '2.2', 'year': '2018'}, {'date': '2019', 'label': '2019', 'month': '', 'quarter': '', 'sourceDataset': 'PN2', 'updateDate': '2022-11-11T00:00:00.000Z', 'value': '2.1', 'year': '2019'}, {'date': '2020', 'label': '2020', 'month': '', 'quarter': '', 'sourceDataset': 'PN2', 'updateDate': '2022-11-11T00:00:00.000Z', 'value': '0.3', 'year': '2020'}, {'date': '2021', 'label': '2021', 'month': '', 'quarter': '', 'sourceDataset': 'PN2', 'updateDate': '2022-11-11T00:00:00.000Z', 'value': '3.5', 'year': '2021'}]}\n",
            "W5Homework_ONS-CWNJ.json\n",
            "------Iteration Ends--------\n"
          ]
        },
        {
          "output_type": "display_data",
          "data": {
            "text/plain": [
              "<IPython.core.display.Javascript object>"
            ],
            "application/javascript": [
              "\n",
              "    async function download(id, filename, size) {\n",
              "      if (!google.colab.kernel.accessAllowed) {\n",
              "        return;\n",
              "      }\n",
              "      const div = document.createElement('div');\n",
              "      const label = document.createElement('label');\n",
              "      label.textContent = `Downloading \"${filename}\": `;\n",
              "      div.appendChild(label);\n",
              "      const progress = document.createElement('progress');\n",
              "      progress.max = size;\n",
              "      div.appendChild(progress);\n",
              "      document.body.appendChild(div);\n",
              "\n",
              "      const buffers = [];\n",
              "      let downloaded = 0;\n",
              "\n",
              "      const channel = await google.colab.kernel.comms.open(id);\n",
              "      // Send a message to notify the kernel that we're ready.\n",
              "      channel.send({})\n",
              "\n",
              "      for await (const message of channel.messages) {\n",
              "        // Send a message to notify the kernel that we're ready.\n",
              "        channel.send({})\n",
              "        if (message.buffers) {\n",
              "          for (const buffer of message.buffers) {\n",
              "            buffers.push(buffer);\n",
              "            downloaded += buffer.byteLength;\n",
              "            progress.value = downloaded;\n",
              "          }\n",
              "        }\n",
              "      }\n",
              "      const blob = new Blob(buffers, {type: 'application/binary'});\n",
              "      const a = document.createElement('a');\n",
              "      a.href = window.URL.createObjectURL(blob);\n",
              "      a.download = filename;\n",
              "      div.appendChild(a);\n",
              "      a.click();\n",
              "      div.remove();\n",
              "    }\n",
              "  "
            ]
          },
          "metadata": {}
        },
        {
          "output_type": "display_data",
          "data": {
            "text/plain": [
              "<IPython.core.display.Javascript object>"
            ],
            "application/javascript": [
              "download(\"download_2493b17d-97e0-4b84-84d4-c6b346f81986\", \"W5Homework_ONS-CWNJ.json\", 12499)"
            ]
          },
          "metadata": {}
        }
      ]
    }
  ]
}